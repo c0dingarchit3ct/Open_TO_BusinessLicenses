{
 "cells": [
  {
   "cell_type": "code",
   "execution_count": 1,
   "metadata": {
    "collapsed": false
   },
   "outputs": [
    {
     "data": {
      "text/html": [
       "<script>jQuery(function() {if (jQuery(\"body.notebook_app\").length == 0) { jQuery(\".input_area\").toggle(); jQuery(\".prompt\").toggle();}});</script>"
      ]
     },
     "metadata": {},
     "output_type": "display_data"
    },
    {
     "data": {
      "text/html": [
       "<button onclick=\"jQuery('.input_area').toggle(); jQuery('.prompt').toggle();\">Toggle code</button>"
      ]
     },
     "metadata": {},
     "output_type": "display_data"
    }
   ],
   "source": [
    "import IPython.core.display as di\n",
    "\n",
    "# This line will hide code by default when the notebook is exported as HTML\n",
    "di.display_html('<script>jQuery(function() {if (jQuery(\"body.notebook_app\").length == 0) { jQuery(\".input_area\").toggle(); jQuery(\".prompt\").toggle();}});</script>', raw=True)\n",
    "\n",
    "# This line will add a button to toggle visibility of code blocks, for use with the HTML export version\n",
    "di.display_html('''<button onclick=\"jQuery('.input_area').toggle(); jQuery('.prompt').toggle();\">Toggle code</button>''', raw=True)"
   ]
  },
  {
   "cell_type": "code",
   "execution_count": 39,
   "metadata": {
    "collapsed": false
   },
   "outputs": [
    {
     "name": "stdout",
     "output_type": "stream",
     "text": [
      "Populating the interactive namespace from numpy and matplotlib\n"
     ]
    }
   ],
   "source": [
    "import pandas as pd\n",
    "from pandas import DataFrame, Series\n",
    "#adding graphics\n",
    "import matplotlib.pyplot as plt\n",
    "%pylab inline\n",
    "from pylab import rcParams\n",
    "from collections import defaultdict\n",
    "from collections import OrderedDict as od\n",
    "rcParams['figure.figsize'] = 18, 6\n",
    "\n",
    "#from IPython.html import widgets \n",
    "import ipywidgets as widgets\n",
    "from IPython.display import display\n",
    "\n",
    "###################################\n",
    "\n",
    "all_lic = pd.read_table('ready_data.csv', sep=',') \n",
    "#print all_lic\n",
    "\n",
    "#fix the dates\n",
    "def addyear(x):\n",
    "    if x is nan :\n",
    "        return nan\n",
    "    ystr = x[6]+x[7]\n",
    "    if (ystr>'18') :\n",
    "        ystr = '19'+ystr\n",
    "    else :\n",
    "        ystr = '20'+ystr\n",
    "    return ystr\n",
    "\n",
    "def getarea(po) :\n",
    "    area = po[:3]\n",
    "    return area\n",
    "# get rid of nulls in postal codes\n",
    "all_lic= all_lic[pd.notnull(all_lic['Licence Address Line 3'])]\n",
    "all_lic['year_issued']=all_lic[\"Issued\"].map(addyear)\n",
    "all_lic['year_cancel']=all_lic[\"Cancel Date\"].map(addyear)\n",
    "\n",
    "\n",
    "all_lic['area']=all_lic['postal'].map(getarea)\n",
    "#print all_lic\n",
    "###############################\n",
    "cat = all_lic['Category']\n",
    "d = defaultdict(int)\n",
    "for c in cat :   \n",
    "    d[c]+=1\n",
    "df = DataFrame(d.items(),columns=['category','count'])\n",
    "indf = df.set_index(['category'])\n",
    "indf=indf.sort_index()\n",
    "#####################################\n",
    "def limit_year(dataset,yearfield,start=None,end=None,year=None) :\n",
    "    target = dataset\n",
    "    if (start is not None):\n",
    "#        print \" filtering for start year \" + start\n",
    "        target= target [target[yearfield]>= start]\n",
    "    if (end is not None) :\n",
    "#        print \" filtering for end year \" + end\n",
    "        target = target[target[yearfield]<= end]\n",
    "    if (year is not None) :\n",
    "#        print \" filtering for  year \" + year\n",
    "        target = target[target[yearfield]== year]\n",
    "    return target\n",
    "\n",
    "# here we build the weights of each area\n",
    "def getweighted(dataset) :\n",
    "    target = dataset\n",
    "    areadict = defaultdict(int)\n",
    "    for c in dataset['area'] :   \n",
    "        areadict[c]+=1\n",
    "    f = lambda x : areadict[x]\n",
    "    target['w'] = target['area'].map(f)\n",
    "    return target\n",
    "\n",
    "# function gets total of a category through years in a single dataset\n",
    "def get_totals_by(dataset,cat) :\n",
    "    d = defaultdict(int)\n",
    "    catseries=dataset[cat]\n",
    "    for c in catseries :   \n",
    "        if c is not nan :\n",
    "            d[c]+=1\n",
    "    df = DataFrame(d.items(),columns=[cat,'count'])\n",
    "    indf = df.set_index([cat])\n",
    "    indf= indf.sort_index()\n",
    "    return indf\n",
    "\n",
    "def limit_by_area (dataset,area) :\n",
    "    target = dataset[dataset['area']==area]\n",
    "    return target\n",
    "\n",
    "def get_category(cat):\n",
    "    cat_target= all_lic [all_lic['Category']==cat]\n",
    "    return cat_target\n",
    "################################################\n",
    "year_rest = limit_year(get_category(cat='EATING ESTABLISHMENT'),year='2012',yearfield='year_issued')\n",
    "\n",
    "\n",
    "year_w = getweighted(year_rest)\n",
    "\n",
    "#ignore errors\n",
    "year_w=year_w[year_w['lat']!=0]\n",
    "\n",
    "year_w_heatdata= year_w[['lat','lng','w']]\n",
    "heatmapdata= year_w_heatdata.to_records(index=False)\n"
   ]
  },
  {
   "cell_type": "code",
   "execution_count": 48,
   "metadata": {
    "collapsed": false,
    "scrolled": false
   },
   "outputs": [
    {
     "name": "stdout",
     "output_type": "stream",
     "text": [
      "EATING ESTABLISHMENT\n",
      "1995\n",
      "2015\n",
      "ALL\n",
      "issued  (32884, 13)\n",
      "canceled  (28371, 13)\n",
      "Total for period =  2483.0\n"
     ]
    },
    {
     "data": {
      "image/png": "[encoded data removed]",
      "text/plain": [
       "<matplotlib.figure.Figure at 0x109bfa690>"
      ]
     },
     "metadata": {},
     "output_type": "display_data"
    }
   ],
   "source": [
    "# Time to put an interface on this\n",
    "\n",
    "def yearly_graph(category,starty,endy,postal,printme):\n",
    "    print category\n",
    "    print starty\n",
    "    print endy\n",
    "    print postal\n",
    "    \n",
    "    # first get the Year Issued  range\n",
    "    if postal==\"ALL\" :\n",
    "        issued_dataset = limit_year(get_category(cat=category),start=str(starty),end=str(endy),yearfield=\"year_issued\")\n",
    "        cancel_dataset = limit_year(get_category(cat=category),start=str(starty),end=str(endy),yearfield=\"year_cancel\")\n",
    "#        print dataset\n",
    "    else :\n",
    "        issued_dataset = limit_by_area(limit_year(get_category(cat=category),yearfield=\"year_issued\",start=str(starty),end=str(endy)),postal)\n",
    "        cancel_dataset = limit_by_area(limit_year(get_category(cat=category),yearfield=\"year_cancel\",start=str(starty),end=str(endy)),postal)\n",
    "\n",
    "    print \"issued \", str (issued_dataset.shape)\n",
    "    print \"canceled \", str (cancel_dataset.shape)\n",
    "\n",
    "    totalsissued = get_totals_by(issued_dataset,'year_issued')\n",
    "    totalscanceled= get_totals_by(cancel_dataset,'year_cancel')\n",
    "    \n",
    "    final = pd.concat ([totalsissued,totalscanceled],axis=1)\n",
    "    final.columns=['issued','canceled']\n",
    "    final['total']=final['issued']-final['canceled']\n",
    "    print \"Total for period = \",final['total'].sum()\n",
    "    fig=plt.figure()\n",
    "    lineplt=fig.add_subplot(2,1,1)        \n",
    "    final.plot(ax=lineplt)\n",
    "    barplt=fig.add_subplot(2,1,2)        \n",
    "    final.plot(ax=barplt, kind='bar')\n",
    "    plt.suptitle(category)\n",
    "    plt.show()    \n",
    "#    final.plot()\n",
    "#    final.plot(kind='bar')\n",
    "    if (printme) :\n",
    "        print final\n",
    "        print issued_dataset\n",
    "        print cancel_dataset\n",
    "\n",
    "catlist_w = widgets.Select()\n",
    "catlist_w.options = list( indf.index)\n",
    "catlist_w.label =\" Category \"\n",
    "\n",
    "yearrange= range(1980,2016)\n",
    "stryearrange =[str(i) for i in yearrange]\n",
    "\n",
    "\n",
    "startyear_w = widgets.IntSlider(value=1980,min=1919,max=2015,step=1,description='Start YEAR !')\n",
    "endyear_w = widgets.IntSlider(value=2015,min=1919,max=2015,step=1,description='End YEAR !')\n",
    "\n",
    "\n",
    "\n",
    "postalfield = widgets.Text()\n",
    "postalfield.label = \"Postal Code\"\n",
    "postalfield.description = \"Postal Code\"\n",
    "postalfield.value =\"ALL\"\n",
    "\n",
    "print_data_w = widgets.ToggleButton(\n",
    "    description='Print Data',\n",
    "    value=False\n",
    ")\n",
    "\n",
    "start_range = widgets.IntSlider(min=1980,max=2015,step=1,description='Start YEAR !')\n",
    "\n",
    "i = widgets.interact( yearly_graph,\n",
    "                 category    = catlist_w, \n",
    "                 starty  = startyear_w,\n",
    "                 endy = endyear_w,\n",
    "                 postal = postalfield,\n",
    "                 printme = print_data_w\n",
    "             )\n"
   ]
  },
  {
   "cell_type": "code",
   "execution_count": null,
   "metadata": {
    "collapsed": true
   },
   "outputs": [],
   "source": []
  }
 ],
 "metadata": {
  "celltoolbar": "Raw Cell Format",
  "kernelspec": {
   "display_name": "Python 2",
   "language": "python",
   "name": "python2"
  },
  "language_info": {
   "codemirror_mode": {
    "name": "ipython",
    "version": 2
   },
   "file_extension": ".py",
   "mimetype": "text/x-python",
   "name": "python",
   "nbconvert_exporter": "python",
   "pygments_lexer": "ipython2",
   "version": "2.7.10"
  }
 },
 "nbformat": 4,
 "nbformat_minor": 0
}
