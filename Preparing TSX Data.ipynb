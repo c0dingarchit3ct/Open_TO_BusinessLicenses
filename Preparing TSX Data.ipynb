{
 "cells": [
  {
   "cell_type": "code",
   "execution_count": 43,
   "metadata": {
    "collapsed": false
   },
   "outputs": [],
   "source": [
    "import pandas.io.data as web\n",
    "import datetime \n",
    "import pandas as pd\n",
    "# BDay is business day, not birthday...\n",
    "from pandas.tseries.offsets import BDay"
   ]
  },
  {
   "cell_type": "code",
   "execution_count": 71,
   "metadata": {
    "collapsed": false
   },
   "outputs": [
    {
     "name": "stdout",
     "output_type": "stream",
     "text": [
      "Empty DataFrame\n",
      "Columns: [year, start, finish, gain]\n",
      "Index: []\n",
      "{'year': 1980, 'last': 2262.94, 'gain': 26.0, 'first': 1801.51}\n",
      "{'year': 1981, 'last': 1949.24, 'gain': -15.0, 'first': 2284.58}\n",
      "{'year': 1982, 'last': 1953.13, 'gain': 0.0, 'first': 1951.33}\n",
      "{'year': 1983, 'last': 2545.92, 'gain': 30.0, 'first': 1953.13}\n",
      " we need to jump ahead\n",
      "{'year': 1984, 'last': 2394.2, 'gain': -6.0, 'first': 2545.12}\n",
      "{'year': 1985, 'last': 2893.23, 'gain': 21.0, 'first': 2388.82}\n",
      "{'year': 1986, 'last': 3058.41, 'gain': 6.0, 'first': 2874.18}\n",
      "{'year': 1987, 'last': 3152.08, 'gain': 3.0, 'first': 3060.01}\n",
      "{'year': 1988, 'last': 3381.39, 'gain': 5.0, 'first': 3210.83}\n",
      " we need to jump ahead\n",
      "{'year': 1989, 'last': 3959.72, 'gain': 18.0, 'first': 3344.59}\n",
      "{'year': 1990, 'last': 3248.53, 'gain': -19.0, 'first': 3994.23}\n",
      "{'year': 1991, 'last': 3512.4, 'gain': 9.0, 'first': 3231.17}\n",
      "{'year': 1992, 'last': 3350.4, 'gain': -4.0, 'first': 3493.7}\n",
      "{'year': 1993, 'last': 4321.4, 'gain': 28.999999999999996, 'first': 3351.0}\n",
      "{'year': 1994, 'last': 4213.6, 'gain': -2.0, 'first': 4321.4}\n",
      " we need to jump ahead\n",
      "{'year': 1995, 'last': 4713.5, 'gain': 13.0, 'first': 4185.9}\n",
      "{'year': 1996, 'last': 5927.0, 'gain': 24.0, 'first': 4767.8}\n",
      "{'year': 1997, 'last': 6699.4, 'gain': 13.0, 'first': 5904.3}\n",
      "{'year': 1998, 'last': 6485.9, 'gain': -3.0, 'first': 6711.4}\n",
      "{'year': 1999, 'last': 8413.8, 'gain': 28.000000000000004, 'first': 6554.3}\n",
      "{'year': 2000, 'last': 8933.7, 'gain': 6.0, 'first': 8413.8}\n",
      "{'year': 2001, 'last': 7688.4, 'gain': -11.0, 'first': 8611.5}\n",
      "{'year': 2002, 'last': 6614.5, 'gain': -13.0, 'first': 7646.8}\n",
      "{'year': 2003, 'last': 8220.9, 'gain': 22.0, 'first': 6740.1}\n",
      "{'year': 2004, 'last': 9246.7, 'gain': 11.0, 'first': 8293.7}\n",
      "{'year': 2005, 'last': 11272.3, 'gain': 22.0, 'first': 9246.7}\n",
      " we need to jump ahead\n",
      "{'year': 2006, 'last': 12908.4, 'gain': 13.0, 'first': 11441.6}\n",
      "{'year': 2007, 'last': 13833.1, 'gain': 7.000000000000001, 'first': 12923.7}\n",
      "{'year': 2008, 'last': 8987.7, 'gain': -35.0, 'first': 13926.8}\n",
      "{'year': 2009, 'last': 11746.1, 'gain': 27.0, 'first': 9234.1}\n",
      "{'year': 2010, 'last': 13443.2, 'gain': 13.0, 'first': 11866.9}\n",
      "{'year': 2011, 'last': 11955.1, 'gain': -11.0, 'first': 13443.2}\n",
      " we need to jump ahead\n",
      "{'year': 2012, 'last': 12433.5, 'gain': 2.0, 'first': 12208.4}\n",
      "{'year': 2013, 'last': 13621.6, 'gain': 9.0, 'first': 12540.8}\n",
      "{'year': 2014, 'last': 14632.4, 'gain': 8.0, 'first': 13594.2}\n"
     ]
    }
   ],
   "source": [
    "def get_year_first_trading_day(year):\n",
    "    d = datetime.datetime(year,1,2)\n",
    "    ret_d = d - BDay(0)\n",
    "#   If this was a Monday 2nd then it is taken off instead of New Year on first .. so first trading day is Tues 3rd\n",
    "    if ((ret_d.day == 2) and (ret_d.weekday() ==0 )):\n",
    "        print \" we need to jump ahead\"\n",
    "        ret_d += datetime.timedelta(days=1)\n",
    "    return ret_d\n",
    "\n",
    "def get_year_last_trading_day(year):\n",
    "    d = datetime.datetime(year+1,1,1)\n",
    "    return d - BDay(1)\n",
    "\n",
    "def get_year_ratio(year) :\n",
    "    ret ={}\n",
    "    first = get_year_first_trading_day(year)\n",
    "    fv = web.DataReader(\"^GSPTSE\", 'yahoo', first, first)['Adj Close']\n",
    "    ret['first']=round (fv.iloc(0)[0],2)\n",
    "    last = get_year_last_trading_day(year)\n",
    "    lv = web.DataReader(\"^GSPTSE\", 'yahoo', last, last)['Adj Close']\n",
    "    ret['last']=round(lv.iloc(0)[0],2)\n",
    "    ret['gain']=round (lv.iloc(0)[0]/fv.iloc(0)[0]-1,2)*100\n",
    "    ret['year']=year\n",
    "    return ret\n",
    "\n",
    "data =  pd.DataFrame(columns=['year','start','finish','gain'])\n",
    "print data\n",
    "\n",
    "ardata = []\n",
    "for year in range (1980,2015):\n",
    "    yeardata = get_year_ratio(year)\n",
    "    print yeardata\n",
    "    ardata.append(yeardata)\n",
    "\n",
    "df = pd.DataFrame.from_records(ardata).set_index('year')\n",
    "df.to_csv(\"tsx.csv\")\n"
   ]
  },
  {
   "cell_type": "code",
   "execution_count": null,
   "metadata": {
    "collapsed": true
   },
   "outputs": [],
   "source": []
  }
 ],
 "metadata": {
  "kernelspec": {
   "display_name": "Python 2",
   "language": "python",
   "name": "python2"
  },
  "language_info": {
   "codemirror_mode": {
    "name": "ipython",
    "version": 2
   },
   "file_extension": ".py",
   "mimetype": "text/x-python",
   "name": "python",
   "nbconvert_exporter": "python",
   "pygments_lexer": "ipython2",
   "version": "2.7.10"
  }
 },
 "nbformat": 4,
 "nbformat_minor": 0
}
