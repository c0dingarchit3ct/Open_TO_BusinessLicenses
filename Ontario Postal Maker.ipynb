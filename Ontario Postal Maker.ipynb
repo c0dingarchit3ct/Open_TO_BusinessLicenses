{
 "cells": [
  {
   "cell_type": "code",
   "execution_count": 2,
   "metadata": {
    "collapsed": false
   },
   "outputs": [
    {
     "name": "stdout",
     "output_type": "stream",
     "text": [
      "Populating the interactive namespace from numpy and matplotlib\n"
     ]
    }
   ],
   "source": [
    "import pandas as pd\n",
    "import numpy as np\n",
    "from numpy import nan as NA\n",
    "from pandas import DataFrame, Series\n",
    "import re # regular expressions\n",
    "#adding graphics\n",
    "import matplotlib.pyplot as plt\n",
    "%pylab inline\n",
    "from pylab import rcParams\n",
    "rcParams['figure.figsize'] = 18, 6"
   ]
  },
  {
   "cell_type": "code",
   "execution_count": 5,
   "metadata": {
    "collapsed": false
   },
   "outputs": [
    {
     "name": "stdout",
     "output_type": "stream",
     "text": [
      "        postal        lat        lng       city prov Unnamed: 5\n",
      "532649  M4J4J7  43.684284 -79.331017  East York   ON        NaN\n"
     ]
    }
   ],
   "source": [
    "all_postals = pd.read_table('canada.csv', sep=',') \n",
    "\n",
    "print test"
   ]
  },
  {
   "cell_type": "code",
   "execution_count": 9,
   "metadata": {
    "collapsed": false
   },
   "outputs": [
    {
     "name": "stdout",
     "output_type": "stream",
     "text": [
      "        postal        lat        lng        city prov Unnamed: 5\n",
      "519485  M2H1V9  43.795228 -79.357933  North York   ON        NaN\n"
     ]
    }
   ],
   "source": [
    "on_postals = all_postals[all_postals['prov']=='ON']\n",
    "on_postals.to_csv('ontario.csv')\n",
    "#print on_postals\n",
    "mypostal = on_postals[on_postals['postal']=='M2H1V9']\n",
    "print mypostal"
   ]
  },
  {
   "cell_type": "code",
   "execution_count": 3,
   "metadata": {
    "collapsed": false
   },
   "outputs": [
    {
     "name": "stdout",
     "output_type": "stream",
     "text": [
      "(313072, 1)\n"
     ]
    }
   ],
   "source": [
    "con = pd.read_table('ontario.csv')\n",
    "print con.shape"
   ]
  },
  {
   "cell_type": "code",
   "execution_count": null,
   "metadata": {
    "collapsed": true
   },
   "outputs": [],
   "source": []
  }
 ],
 "metadata": {
  "kernelspec": {
   "display_name": "Python 2",
   "language": "python",
   "name": "python2"
  },
  "language_info": {
   "codemirror_mode": {
    "name": "ipython",
    "version": 2
   },
   "file_extension": ".py",
   "mimetype": "text/x-python",
   "name": "python",
   "nbconvert_exporter": "python",
   "pygments_lexer": "ipython2",
   "version": "2.7.10"
  }
 },
 "nbformat": 4,
 "nbformat_minor": 0
}
