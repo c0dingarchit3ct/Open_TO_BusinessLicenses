{
 "cells": [
  {
   "cell_type": "code",
   "execution_count": 1,
   "metadata": {
    "collapsed": false
   },
   "outputs": [
    {
     "name": "stdout",
     "output_type": "stream",
     "text": [
      "Populating the interactive namespace from numpy and matplotlib\n",
      "test\n"
     ]
    }
   ],
   "source": [
    "import pandas as pd\n",
    "import numpy as np\n",
    "from numpy import nan as NA\n",
    "from pandas import DataFrame, Series\n",
    "import re # regular expressions\n",
    "#adding graphics\n",
    "import matplotlib.pyplot as plt\n",
    "%pylab inline\n",
    "from pylab import rcParams\n",
    "from collections import defaultdict\n",
    "from collections import OrderedDict as od\n",
    "rcParams['figure.figsize'] = 18, 6\n",
    "print 'test'"
   ]
  },
  {
   "cell_type": "code",
   "execution_count": 2,
   "metadata": {
    "collapsed": false
   },
   "outputs": [
    {
     "name": "stdout",
     "output_type": "stream",
     "text": [
      "0         M9L1N9\n",
      "1         M1W2Z4\n",
      "2         M1V2M1\n",
      "3         M9W2Z2\n",
      "4         M9W5E3\n",
      "5         M4B1P2\n",
      "6         M1L1M5\n",
      "7         M1N1R3\n",
      "8         M1C1L5\n",
      "9         M5V3B1\n",
      "10        M5V3B1\n",
      "11        M1V4B5\n",
      "12        M1K1E7\n",
      "13        M4B1P2\n",
      "14        M5A2R3\n",
      "15        M5A2R3\n",
      "16        M8Z1A1\n",
      "17        M2M3Y2\n",
      "18        M2M3Y2\n",
      "19        M1H1A5\n",
      "20        M1H1A5\n",
      "21        M8Y1A9\n",
      "22        M4B2V2\n",
      "23        M9W5E3\n",
      "24        M4G3V3\n",
      "25        M8Y1A9\n",
      "26        M1M1R4\n",
      "27        M4G3V3\n",
      "28        M4G3V3\n",
      "29        M3K1E2\n",
      "           ...  \n",
      "144461       M4J\n",
      "144462       M6P\n",
      "144463       M8Z\n",
      "144464       M8Z\n",
      "144465       M6K\n",
      "144466       M8Z\n",
      "144467       M4H\n",
      "144468       M9L\n",
      "144469       M3J\n",
      "144470       M4K\n",
      "144471       L4C\n",
      "144472       M5H\n",
      "144473       M8Z\n",
      "144474       L5R\n",
      "144475       M8Z\n",
      "144476       M8Z\n",
      "144477       M8Z\n",
      "144478       M8Z\n",
      "144479       M4L\n",
      "144480       M6H\n",
      "144481       M1C\n",
      "144482       M3H\n",
      "144483       L6B\n",
      "144484       M4K\n",
      "144485       M5R\n",
      "144486       L9P\n",
      "144487       M1G\n",
      "144488       L6S\n",
      "144489       V3T\n",
      "144490       M4L\n",
      "Name: postal, dtype: object\n"
     ]
    },
    {
     "name": "stderr",
     "output_type": "stream",
     "text": [
      "/Users/ahmed/anaconda/lib/python2.7/site-packages/pandas/io/parsers.py:1170: DtypeWarning: Columns (6,7,8,13) have mixed types. Specify dtype option on import or set low_memory=False.\n",
      "  data = self._reader.read(nrows)\n"
     ]
    }
   ],
   "source": [
    "#all_df = pd.read_table('balances.csv', sep=',',index_col='Ref_Date') \n",
    "all_lic = pd.read_table('business.licences.csv', sep=',') \n",
    "\n",
    "#fix the dates\n",
    "def addyear(x):\n",
    "    ystr = x[6]+x[7]\n",
    "    if (ystr>'18') :\n",
    "        ystr = '19'+ystr\n",
    "    else :\n",
    "        ystr = '20'+ystr\n",
    "    return ystr\n",
    "\n",
    "def getpostal(postal) :\n",
    "    return postal[:3]+ postal[4:]\n",
    "def getarea(po) :\n",
    "    area = po[:3]\n",
    "    return area\n",
    "# get rid of nulls in postal codes\n",
    "all_lic= all_lic[pd.notnull(all_lic['Licence Address Line 3'])]\n",
    "all_lic['year']=all_lic[\"Issued\"].map(addyear)\n",
    "all_lic['postal']=all_lic['Licence Address Line 3'].map(getpostal)\n",
    "all_lic['area']=all_lic['postal'].map(getarea)\n",
    "#all_lic['lat']=all_lic[\"postal\"].map(lat)\n",
    "#all_lic['lng']=all_lic[\"postal\"].map(lng)\n",
    "print all_lic['postal']"
   ]
  },
  {
   "cell_type": "code",
   "execution_count": 3,
   "metadata": {
    "collapsed": false
   },
   "outputs": [
    {
     "name": "stdout",
     "output_type": "stream",
     "text": [
      "(82, 1)\n"
     ]
    }
   ],
   "source": [
    "cat = all_lic['Category']\n",
    "d = defaultdict(int)\n",
    "\n",
    "for c in cat :   \n",
    "    d[c]+=1\n",
    "\n",
    "df = DataFrame(d.items(),columns=['category','count'])\n",
    "indf = df.set_index(['category'])\n",
    "print indf.shape\n",
    "\n",
    "cat500up = indf[indf['count']>=500]\n",
    "cat100_500 = indf[indf['count']>=100]\n",
    "cat100_500 = cat100_500[cat100_500['count']<500]\n",
    "cat100down = indf[indf['count']<100]\n",
    "#print cat500up.shape\n",
    "#print cat100_500.shape\n",
    "#print cat100down.shape\n",
    "#print \n",
    "#indf['count'].plot()\n",
    "#for attrib in d:\n",
    "#        print attrib\n",
    "#highcat = cat500up[cat500up['count']>5000]\n",
    "#highcat.plot"
   ]
  },
  {
   "cell_type": "code",
   "execution_count": 5,
   "metadata": {
    "collapsed": false
   },
   "outputs": [],
   "source": [
    "#Quickly fix the dates by adding 19 and 20\n",
    "\n",
    "\n",
    "def buildCategory(cat):\n",
    "    cat_target= all_lic [all_lic['Category']==cat]\n",
    "   \n",
    "    #select the fields we want\n",
    "    target=cat_target[['Operating Name','Issued','year','postal','area']]\n",
    "    dest='categories/'+cat + '.csv'\n",
    "    target.to_csv(dest)\n",
    "    return target"
   ]
  },
  {
   "cell_type": "code",
   "execution_count": 6,
   "metadata": {
    "collapsed": true
   },
   "outputs": [],
   "source": [
    "def limit_year(dataset,start=None,end=None,year=None) :\n",
    "\n",
    "    target = dataset\n",
    "    if (start is not None):\n",
    "        print \" filtering for start year \" + start\n",
    "        target= target [target['year']>= start]\n",
    "    if (end is not None) :\n",
    "        print \" filtering for end year \" + end\n",
    "        target = target[target['year']<= end]\n",
    "    if (year is not None) :\n",
    "        print \" filtering for  year \" + year\n",
    "        target = target[target['year']== year]\n",
    "    return target\n",
    "        "
   ]
  },
  {
   "cell_type": "code",
   "execution_count": 7,
   "metadata": {
    "collapsed": false
   },
   "outputs": [
    {
     "name": "stdout",
     "output_type": "stream",
     "text": [
      " filtering for  year 2000\n",
      "                             Operating Name    Issued  year  postal area\n",
      "58488             PEARL JAPANESE RESTAURANT  01/01/00  2000  M6G1K7  M6G\n",
      "58491                HONOUR DONUTS & COFFEE  01/01/00  2000  M5T1H7  M5T\n",
      "58998               DANG DE LION RESTAURANT  13/01/00  2000  M5S1Y6  M5S\n",
      "59044           S & S MILK MART AND VARIETY  01/01/00  2000  M9N2R5  M9N\n",
      "59045                                   NaN  01/01/00  2000  M6M3Z6  M6M\n",
      "59061                         MADRAS CHALET  01/01/00  2000  M4L1Z7  M4L\n",
      "59078                           UMUT COFFEE  01/01/00  2000  M6N1H9  M6N\n",
      "59131                       ZIZI ON COLLEGE  21/02/00  2000  M6G1B3  M6G\n",
      "59141                   PIZZA CORNER BAKERY  01/01/00  2000  M4B1A9  M4B\n",
      "59156                            PIZZA EXPO  03/02/00  2000  M1T3H8  M1T\n",
      "59179        YOKODUNA JAPANESE NOODLE HOUSE  01/01/00  2000  M1V5B5  M1V\n",
      "59180  OTAKO JAPANESE AND KOREAN RESTAURANT  26/01/00  2000  M1V3Z4  M1V\n",
      "59186                    COFFEE TIME DONUTS  07/01/00  2000  M3J3L8  M3J\n",
      "59197         MILVAN NIGHTCLUB & RESTAURANT  01/01/00  2000  M9L1Y8  M9L\n",
      "59198                      GOOD FELLAS CAFE  30/03/00  2000  M4J1N2  M4J\n",
      "59228         PAISANO'S PIZZA & PANINI CAFE  01/01/00  2000  M2N4X9  M2N\n",
      "59243                             MR BURGER  18/01/00  2000  M1B1K1  M1B\n",
      "59257                      THE BREAD BASKET  08/05/00  2000  M4Y1R4  M4Y\n",
      "59261                 SWEET HOME RESTAURANT  20/03/00  2000  M4C1L7  M4C\n",
      "59273                      COLLEGIATE LUNCH  01/01/00  2000  M4M1Z5  M4M\n",
      "59274                         AUTO MERIDIAN  31/05/00  2000  M4C1L1  M4C\n",
      "59293                       STARDUST LOUNGE  14/03/00  2000  M9W1R9  M9W\n",
      "59311            PRINCE OF EGYPT RESTAURANT  17/04/00  2000  M1W2R5  M1W\n",
      "59316                        PUMPERNICKEL'S  25/01/00  2000  M5J1A7  M5J\n",
      "59317                          SOLY'S DINER  25/01/00  2000  M5J1A7  M5J\n",
      "59338                         CAFE ISTANBUL  18/01/00  2000  M5R3J3  M5R\n",
      "59385      SOUP BOWL WEST INDIAN RESTAURANT  01/01/00  2000  M3K1E1  M3K\n",
      "59386  BEST COFFEE HOUSE AND FINE FOODS LTD  01/01/00  2000  M4E1H2  M4E\n",
      "59401                   1216894 ONTARIO LTD  24/01/00  2000  M6E1B5  M6E\n",
      "59409                    ESTRELLITA-DEL-SUR  01/01/00  2000  M9L1Y9  M9L\n",
      "...                                     ...       ...   ...     ...  ...\n",
      "83859                   MANDARIN RESTAURANT  02/05/00  2000  M4S2C6  M4S\n",
      "83860                    TIMEHRI RESTAURANT  18/04/00  2000  M1V5J6  M1V\n",
      "83861                   BUTLERS PANTRY CAFE  13/04/00  2000  M6G2L7  M6G\n",
      "83862                           TIM HORTONS  24/07/00  2000  M1P5B7  M1P\n",
      "83863                           TIM HORTONS  24/07/00  2000  M1H1A9  M1H\n",
      "83864             THE FOXES DEN BAR & GRILL  19/04/00  2000  M5S2B1  M5S\n",
      "83865                                GOJIMA  02/05/00  2000  M8X1E9  M8X\n",
      "83867                         CHINA COTTAGE  27/04/00  2000  M1R4C2  M1R\n",
      "83868                               HOOTERS  10/07/00  2000  M5V1P6  M5V\n",
      "83869                  BOTA FOGO BAR & CAFE  20/06/00  2000  M6K1V2  M6K\n",
      "83870                          MR SUBMARINE  19/05/00  2000  M6M3Z8  M6M\n",
      "83871         THE DAILY PERK COFFEE COMPANY  19/06/00  2000  M4B2J1  M4B\n",
      "83872                           DAIRY QUEEN  09/06/00  2000  M1P2L8  M1P\n",
      "83873                GOLDEN THAI RESTAURANT  17/08/00  2000  M5C2G3  M5C\n",
      "83874                       MAYA RESTAURANT  18/05/00  2000  M3K1E7  M3K\n",
      "83876                           TOKYO SUSHI  18/07/00  2000  M6C2C4  M6C\n",
      "83878                         SUSHI SUPREME  07/06/00  2000  M4S1Z8  M4S\n",
      "83879              DAIO JAPANESE RESTAURANT  09/08/00  2000  M5B2H9  M5B\n",
      "83880                          YOGI NOODLES  28/07/00  2000  M1S5B8  M1S\n",
      "83881                          RETRO BURGER  06/07/00  2000  M4C1H6  M4C\n",
      "83882       TOSHI SUSHI JAPANESE RESTAURANT  11/09/00  2000  M5V1M1  M5V\n",
      "83883                           DAIRY QUEEN  11/07/00  2000  M6B3T1  M6B\n",
      "83885                          JASON GEORGE  09/08/00  2000  M5A1E1  M5A\n",
      "83886                       ZORBA THE GREEK  26/10/00  2000  M1R4B7  M1R\n",
      "83887                           TIM HORTONS  15/08/00  2000  M8Z5C9  M8Z\n",
      "83888                             COLLISION  14/08/00  2000  M6G1B2  M6G\n",
      "83889   PAT'S HOMESTYLE JAMAICAN RESTAURANT  18/09/00  2000  M5V2B5  M5V\n",
      "83892  JAPANGO SUSHI AND NOODLE RESTAURANTS  25/08/00  2000  M5G1P5  M5G\n",
      "83893            JACK ASTOR'S BAR AND GRILL  31/10/00  2000  M1P2K2  M1P\n",
      "83901                   JOY THAI RESTAURANT  26/10/00  2000  M4N2L1  M4N\n",
      "\n",
      "[1307 rows x 5 columns]\n"
     ]
    }
   ],
   "source": [
    "rest2000 = limit_year(buildCategory(cat='EATING ESTABLISHMENT'),year='2000')\n",
    "print rest2000"
   ]
  },
  {
   "cell_type": "code",
   "execution_count": null,
   "metadata": {
    "collapsed": false
   },
   "outputs": [],
   "source": [
    "# in this part we read the ontario csv to lookup coordinates\n",
    "onp = pd.read_table('ontario.csv', sep=',') \n",
    "print onp.shape\n",
    "\n",
    "def getpostalcoordinates (code):\n",
    "    postal = onp[onp['postal']==code]\n",
    "\n",
    "def coord(x) :\n",
    "    c = getpostalcoordinates(x)\n",
    "    if c.empty:\n",
    "        return 0,0\n",
    "    return c.iloc[0]['lat'],c.iloc[0]['lng']\n",
    "\n",
    "#temp= coord('M5k2j7')print temp\n",
    "\n",
    "# here we build a list of all zip codes in a list\n",
    "def getweighted(dataset) :\n",
    "    target = dataset\n",
    "    areadict = defaultdict(int)\n",
    "    for c in dataset['area'] :   \n",
    "        areadict[c]+=1\n",
    "    f = lambda x : areadict[x]\n",
    "    target['w'] = target['area'].map(f)\n",
    "    target['lat'],target['lng']= zip(*target['postal'].map(coord))\n",
    "    return target\n",
    "getweighted(rest2000)"
   ]
  },
  {
   "cell_type": "code",
   "execution_count": null,
   "metadata": {
    "collapsed": true
   },
   "outputs": [],
   "source": []
  },
  {
   "cell_type": "code",
   "execution_count": null,
   "metadata": {
    "collapsed": false
   },
   "outputs": [],
   "source": []
  }
 ],
 "metadata": {
  "celltoolbar": "Raw Cell Format",
  "kernelspec": {
   "display_name": "Python 2",
   "language": "python",
   "name": "python2"
  },
  "language_info": {
   "codemirror_mode": {
    "name": "ipython",
    "version": 2
   },
   "file_extension": ".py",
   "mimetype": "text/x-python",
   "name": "python",
   "nbconvert_exporter": "python",
   "pygments_lexer": "ipython2",
   "version": "2.7.10"
  }
 },
 "nbformat": 4,
 "nbformat_minor": 0
}
