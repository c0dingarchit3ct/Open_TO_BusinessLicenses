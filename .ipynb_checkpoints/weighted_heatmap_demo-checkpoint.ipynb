{
 "metadata": {
  "name": "",
  "signature": "sha256:b3440f55495ae66f2d04978cb425002c71acf6f6c0ee0a4c0230cfa513830efc"
 },
 "nbformat": 3,
 "nbformat_minor": 0,
 "worksheets": [
  {
   "cells": [
    {
     "cell_type": "markdown",
     "metadata": {},
     "source": [
      "# Plotting weighted heatmaps\n",
      "\n",
      "Let's look at plotting weighted heatmaps. We'll use earthquake data as our dataset. The weight of the datapoint will correspond to the magnitude of the earthquake. A higher weight will translate into a hotter colour on the heatmap."
     ]
    },
    {
     "cell_type": "code",
     "collapsed": false,
     "input": [
      "import gmaps"
     ],
     "language": "python",
     "metadata": {},
     "outputs": [],
     "prompt_number": ""
    },
    {
     "cell_type": "markdown",
     "metadata": {},
     "source": [
      "Let's load the earthquake dataset. This is a list of all the (recorded) earthquakes that occurred around the world between the 12th of November and the 12th of December 2014. There are a little over 8000 recorded earthquakes in the dataset. The data is from the [United States Geological Survey](http://earthquake.usgs.gov/earthquakes/feed/v1.0/)."
     ]
    },
    {
     "cell_type": "code",
     "collapsed": false,
     "input": [
      "earthquake_data = gmaps.datasets.load_dataset('earthquakes')\n",
      "earthquake_data[:5]"
     ],
     "language": "python",
     "metadata": {},
     "outputs": [],
     "prompt_number": ""
    },
    {
     "cell_type": "markdown",
     "metadata": {},
     "source": [
      "We now have the data in a Numpy array. We can just pass the data as is to `heatmap`."
     ]
    },
    {
     "cell_type": "code",
     "collapsed": false,
     "input": [
      "m = gmaps.heatmap(earthquake_data, max_intensity=10, point_radius=5)\n",
      "# Set max_intensity to avoid a few strong earthquakes drowning out all the smaller ones.\n",
      "\n",
      "#\u00a0Let's zoom in to North  America and the Pacific belt\n",
      "m._bounds = [[21.147981560433177, -171.1778375], [67.28135425049395, -48.13096250000001]]\n",
      "gmaps.display(m)"
     ],
     "language": "python",
     "metadata": {},
     "outputs": [],
     "prompt_number": ""
    },
    {
     "cell_type": "code",
     "collapsed": false,
     "input": [],
     "language": "python",
     "metadata": {},
     "outputs": []
    }
   ],
   "metadata": {}
  }
 ]
}
