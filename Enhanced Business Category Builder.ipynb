{
 "cells": [
  {
   "cell_type": "code",
   "execution_count": 1,
   "metadata": {
    "collapsed": false
   },
   "outputs": [
    {
     "name": "stdout",
     "output_type": "stream",
     "text": [
      "Populating the interactive namespace from numpy and matplotlib\n"
     ]
    }
   ],
   "source": [
    "import pandas as pd\n",
    "import numpy as np\n",
    "from numpy import nan as NA\n",
    "from pandas import DataFrame, Series\n",
    "import re # regular expressions\n",
    "#adding graphics\n",
    "import matplotlib.pyplot as plt\n",
    "%pylab inline\n",
    "from pylab import rcParams\n",
    "from collections import defaultdict\n",
    "from collections import OrderedDict as od\n",
    "rcParams['figure.figsize'] = 18, 6"
   ]
  },
  {
   "cell_type": "code",
   "execution_count": 2,
   "metadata": {
    "collapsed": false
   },
   "outputs": [
    {
     "name": "stdout",
     "output_type": "stream",
     "text": [
      "        Unnamed: 0    Issued                    Operating Name  \\\n",
      "0                0  24/03/95                      EMERALD TAXI   \n",
      "1                1  24/06/96                      PREMIER TAXI   \n",
      "2                2  17/08/95                    A TORONTO TAXI   \n",
      "3                3  03/03/88                       KIPLING KAB   \n",
      "4                4  14/07/94                      RAINBOW TAXI   \n",
      "5                5  02/02/95                        CROWN TAXI   \n",
      "6                6  20/09/95                                     \n",
      "7                7  25/04/80              EAST-END/HOWARD TAXI   \n",
      "8                8  23/10/97                        RAPID TAXI   \n",
      "9                9  28/03/94                               NaN   \n",
      "10              10  28/03/94                               NaN   \n",
      "11              11  17/01/92                     BEE LINE TAXI   \n",
      "12              12  22/08/97                         MEGA-CITY   \n",
      "13              13  24/07/98                        CROWN TAXI   \n",
      "14              14  19/10/94                        ROYAL TAXI   \n",
      "15              15  01/10/99                               NaN   \n",
      "16              16  01/01/57                   ARROW/SUNNYSIDE   \n",
      "17              17  29/05/96  TRILLIUM CORPORATE TAXI SERVICES   \n",
      "18              18  20/06/96                      EMERALD TAXI   \n",
      "19              19  13/01/94              SCARBOROUGH CITY CAB   \n",
      "20              20  08-01-01              SCARBOROUGH CITY CAB   \n",
      "21              21  06/07/89                               NaN   \n",
      "22              22  29/07/68                         BECK TAXI   \n",
      "23              23  08/06/98                         CITY TAXI   \n",
      "24              24  05/09/95                      SUNRISE TAXI   \n",
      "25              25  09-03-01                               NaN   \n",
      "26              26  21/10/96                   INTER LINE TAXI   \n",
      "27              27  06/06/00                               NaN   \n",
      "28              28  06/06/00  TRILLIUM CORPORATE TAXI SERVICES   \n",
      "29              29  01/01/97                    CELEBRITY TAXI   \n",
      "...            ...       ...                               ...   \n",
      "144432      144461  15-05-15                   FOLLOW THE STAR   \n",
      "144433      144462  02-06-15                      COCO BANANAZ   \n",
      "144434      144463  18-06-15                               NaN   \n",
      "144435      144464  18-06-15                               NaN   \n",
      "144436      144465  08-06-15            PALAIS ROYALE BALLROOM   \n",
      "144437      144466  18-06-15                               NaN   \n",
      "144438      144467  03-06-15                               NaN   \n",
      "144439      144468  20-05-15                        S.S. FOODS   \n",
      "144440      144469  22-05-15                           CUPCORN   \n",
      "144441      144470  07-05-15                    BE GOOD GELATO   \n",
      "144442      144471  03-06-15                               NaN   \n",
      "144443      144472  15-06-15                 THE DUKE BROTHERS   \n",
      "144444      144473  18-06-15                               NaN   \n",
      "144445      144474  08-06-15                               NaN   \n",
      "144446      144475  18-06-15                               NaN   \n",
      "144447      144476  18-06-15                               NaN   \n",
      "144448      144477  18-06-15                               NaN   \n",
      "144449      144478  18-06-15                               NaN   \n",
      "144450      144479  25-06-15                   BEACHES N'CREAM   \n",
      "144451      144480  26-06-15                     THE UPPERHAND   \n",
      "144452      144481  26-06-15                 FMS HOTDOG CORNER   \n",
      "144453      144482  06-07-15                         TRUEBOOST   \n",
      "144454      144483  09-07-15                      GELATO GATTO   \n",
      "144455      144484  10-07-15                     DOGS AND MORE   \n",
      "144456      144485  23-07-15                    THE GOOD PRESS   \n",
      "144457      144486  12-08-15            JEFFS GOURMET CATERING   \n",
      "144458      144487  21-08-15                               NaN   \n",
      "144459      144488  27-08-15                TORONTO SOFTEE INC   \n",
      "144460      144489  17-09-15                               NaN   \n",
      "144461      144490  24-09-15                        II CAPTAIN   \n",
      "\n",
      "       Licence Address Line 3 Licence No.  \\\n",
      "0                     M9L 1N9  B032020976   \n",
      "1                     M1W 2Z4  B032025475   \n",
      "2                     M1V 2M1  B032022604   \n",
      "3                     M9W 2Z2  B030000236   \n",
      "4                     M9W 5E3  B032018529   \n",
      "5                     M4B 1P2  B032020423   \n",
      "6                     M1L 1M5  B032022904   \n",
      "7                     M1N 1R3  B030008288   \n",
      "8                     M1C 1L5  B033010926   \n",
      "9                     M5V 3B1  B030000300   \n",
      "10                    M5V 3B1  B030000301   \n",
      "11                    M1V 4B5  B030000296   \n",
      "12                    M1K 1E7  B033009456   \n",
      "13                    M4B 1P2  B033087407   \n",
      "14                    M5A 2R3  B032019377   \n",
      "15                    M5A 2R3  B033102127   \n",
      "16                    M8Z 1A1  B030008882   \n",
      "17                    M2M 3Y2  B032025104   \n",
      "18                    M2M 3Y2  B032025377   \n",
      "19                    M1H 1A5  B032016446   \n",
      "20                    M1H 1A5  B030000443   \n",
      "21                    M8Y 1A9  B030000285   \n",
      "22                    M4B 2V2  B030009567   \n",
      "23                    M9W 5E3  B033084287   \n",
      "24                    M4G 3V3  B032022753   \n",
      "25                    M8Y 1A9  B033118985   \n",
      "26                    M1M 1R4  B032026601   \n",
      "27                    M4G 3V3  B033109209   \n",
      "28                    M4G 3V3  B033109213   \n",
      "29                    M3K 1E2  B033002259   \n",
      "...                       ...         ...   \n",
      "144432                    M4J  V274536219   \n",
      "144433                    M6P  V274537170   \n",
      "144434                    M8Z  V274536714   \n",
      "144435                    M8Z  V274536708   \n",
      "144436                    M6K  V274537362   \n",
      "144437                    M8Z  V274536706   \n",
      "144438                    M4H  V274536418   \n",
      "144439                    M9L  V274536682   \n",
      "144440                    M3J  V274535695   \n",
      "144441                    M4K  V274535645   \n",
      "144442                    L4C  V274536500   \n",
      "144443                    M5H  V274536617   \n",
      "144444                    M8Z  V274536707   \n",
      "144445                    L5R  V274535765   \n",
      "144446                    M8Z  V274536709   \n",
      "144447                    M8Z  V274536711   \n",
      "144448                    M8Z  V274536715   \n",
      "144449                    M8Z  V274536713   \n",
      "144450                    M4L  V274536431   \n",
      "144451                    M6H  V274537210   \n",
      "144452                    M1C  V274537476   \n",
      "144453                    M3H  V274538157   \n",
      "144454                    L6B  V274538166   \n",
      "144455                    M4K  V274538647   \n",
      "144456                    M5R  V274535955   \n",
      "144457                    L9P  V274537317   \n",
      "144458                    M1G  V274540564   \n",
      "144459                    L6S  V274540181   \n",
      "144460                    V3T  V274540729   \n",
      "144461                    M4L  V274539051   \n",
      "\n",
      "                                       Category  postal        lat        lng  \\\n",
      "0                                TAXICAB BROKER  M9L1N9  43.764896 -79.545326   \n",
      "1                                TAXICAB BROKER  M1W2Z4  43.809011 -79.313847   \n",
      "2                                TAXICAB BROKER  M1V2M1  43.812027 -79.310722   \n",
      "3                                TAXICAB BROKER  M9W2Z2  43.715174 -79.570206   \n",
      "4                                TAXICAB BROKER  M9W5E3  43.701368 -79.581436   \n",
      "5                                TAXICAB BROKER  M4B1P2  43.708658 -79.297642   \n",
      "6                                TAXICAB BROKER  M1L1M5  43.700375 -79.270966   \n",
      "7                                TAXICAB BROKER  M1N1R3  43.687323 -79.271609   \n",
      "8                                TAXICAB BROKER  M1C1L5  43.792912 -79.154945   \n",
      "9                                TAXICAB BROKER  M5V3B1  43.646543 -79.402087   \n",
      "10                               TAXICAB BROKER  M5V3B1  43.646543 -79.402087   \n",
      "11                               TAXICAB BROKER  M1V4B5  43.827743 -79.263630   \n",
      "12                               TAXICAB BROKER  M1K1E7  43.713138 -79.262035   \n",
      "13                               TAXICAB BROKER  M4B1P2  43.708658 -79.297642   \n",
      "14                               TAXICAB BROKER  M5A2R3  43.653918 -79.367224   \n",
      "15                               TAXICAB BROKER  M5A2R3  43.653918 -79.367224   \n",
      "16                               TAXICAB BROKER  M8Z1A1  43.616159 -79.520924   \n",
      "17                               TAXICAB BROKER  M2M3Y2  43.797799 -79.419431   \n",
      "18                               TAXICAB BROKER  M2M3Y2  43.797799 -79.419431   \n",
      "19                               TAXICAB BROKER  M1H1A5  43.756889 -79.237846   \n",
      "20                               TAXICAB BROKER  M1H1A5  43.756889 -79.237846   \n",
      "21                               TAXICAB BROKER  M8Y1A9  43.619465 -79.497055   \n",
      "22                               TAXICAB BROKER  M4B2V2  43.713457 -79.306830   \n",
      "23                               TAXICAB BROKER  M9W5E3  43.701368 -79.581436   \n",
      "24                               TAXICAB BROKER  M4G3V3  43.706946 -79.362315   \n",
      "25                               TAXICAB BROKER  M8Y1A9  43.619465 -79.497055   \n",
      "26                               TAXICAB BROKER  M1M1R4  43.737899 -79.217815   \n",
      "27                               TAXICAB BROKER  M4G3V3  43.706946 -79.362315   \n",
      "28                               TAXICAB BROKER  M4G3V3  43.706946 -79.362315   \n",
      "29                               TAXICAB BROKER  M3K1E2  43.730514 -79.469486   \n",
      "...                                         ...     ...        ...        ...   \n",
      "144432  NON-MOTORIZED REFRESHMENT VEHICLE OWNER     M4J  43.721377 -79.257537   \n",
      "144433  NON-MOTORIZED REFRESHMENT VEHICLE OWNER     M6P  43.656241 -79.446009   \n",
      "144434  NON-MOTORIZED REFRESHMENT VEHICLE OWNER     M8Z  43.637002 -79.520842   \n",
      "144435  NON-MOTORIZED REFRESHMENT VEHICLE OWNER     M8Z  43.637002 -79.520842   \n",
      "144436  NON-MOTORIZED REFRESHMENT VEHICLE OWNER     M6K  43.641291 -79.414722   \n",
      "144437  NON-MOTORIZED REFRESHMENT VEHICLE OWNER     M8Z  43.637002 -79.520842   \n",
      "144438  NON-MOTORIZED REFRESHMENT VEHICLE OWNER     M4H  43.705460 -79.351395   \n",
      "144439  NON-MOTORIZED REFRESHMENT VEHICLE OWNER     M9L  43.759010 -79.545197   \n",
      "144440  NON-MOTORIZED REFRESHMENT VEHICLE OWNER     M3J  43.766758 -79.504668   \n",
      "144441  NON-MOTORIZED REFRESHMENT VEHICLE OWNER     M4K  43.688515 -79.362238   \n",
      "144442  NON-MOTORIZED REFRESHMENT VEHICLE OWNER     L4C  43.894145 -79.436629   \n",
      "144443  NON-MOTORIZED REFRESHMENT VEHICLE OWNER     M5H  43.648907 -79.386078   \n",
      "144444  NON-MOTORIZED REFRESHMENT VEHICLE OWNER     M8Z  43.637002 -79.520842   \n",
      "144445  NON-MOTORIZED REFRESHMENT VEHICLE OWNER     L5R  43.604818 -79.672971   \n",
      "144446  NON-MOTORIZED REFRESHMENT VEHICLE OWNER     M8Z  43.637002 -79.520842   \n",
      "144447  NON-MOTORIZED REFRESHMENT VEHICLE OWNER     M8Z  43.637002 -79.520842   \n",
      "144448  NON-MOTORIZED REFRESHMENT VEHICLE OWNER     M8Z  43.637002 -79.520842   \n",
      "144449  NON-MOTORIZED REFRESHMENT VEHICLE OWNER     M8Z  43.637002 -79.520842   \n",
      "144450  NON-MOTORIZED REFRESHMENT VEHICLE OWNER     M4L  43.670341 -79.311600   \n",
      "144451  NON-MOTORIZED REFRESHMENT VEHICLE OWNER     M6H  43.659753 -79.428556   \n",
      "144452  NON-MOTORIZED REFRESHMENT VEHICLE OWNER     M1C  43.789091 -79.160265   \n",
      "144453  NON-MOTORIZED REFRESHMENT VEHICLE OWNER     M3H  43.797038 -79.423404   \n",
      "144454  NON-MOTORIZED REFRESHMENT VEHICLE OWNER     L6B  43.875097 -79.227817   \n",
      "144455  NON-MOTORIZED REFRESHMENT VEHICLE OWNER     M4K  43.688515 -79.362238   \n",
      "144456  NON-MOTORIZED REFRESHMENT VEHICLE OWNER     M5R  43.671644 -79.392877   \n",
      "144457  NON-MOTORIZED REFRESHMENT VEHICLE OWNER     L9P  44.105288 -79.106511   \n",
      "144458  NON-MOTORIZED REFRESHMENT VEHICLE OWNER     M1G  43.771477 -79.209709   \n",
      "144459  NON-MOTORIZED REFRESHMENT VEHICLE OWNER     L6S  43.749880 -79.687463   \n",
      "144460  NON-MOTORIZED REFRESHMENT VEHICLE OWNER     V3T   0.000000   0.000000   \n",
      "144461  NON-MOTORIZED REFRESHMENT VEHICLE OWNER     M4L  43.670341 -79.311600   \n",
      "\n",
      "        year area  \n",
      "0       1995  M9L  \n",
      "1       1996  M1W  \n",
      "2       1995  M1V  \n",
      "3       1988  M9W  \n",
      "4       1994  M9W  \n",
      "5       1995  M4B  \n",
      "6       1995  M1L  \n",
      "7       1980  M1N  \n",
      "8       1997  M1C  \n",
      "9       1994  M5V  \n",
      "10      1994  M5V  \n",
      "11      1992  M1V  \n",
      "12      1997  M1K  \n",
      "13      1998  M4B  \n",
      "14      1994  M5A  \n",
      "15      1999  M5A  \n",
      "16      1957  M8Z  \n",
      "17      1996  M2M  \n",
      "18      1996  M2M  \n",
      "19      1994  M1H  \n",
      "20      2001  M1H  \n",
      "21      1989  M8Y  \n",
      "22      1968  M4B  \n",
      "23      1998  M9W  \n",
      "24      1995  M4G  \n",
      "25      2001  M8Y  \n",
      "26      1996  M1M  \n",
      "27      2000  M4G  \n",
      "28      2000  M4G  \n",
      "29      1997  M3K  \n",
      "...      ...  ...  \n",
      "144432  2015  M4J  \n",
      "144433  2015  M6P  \n",
      "144434  2015  M8Z  \n",
      "144435  2015  M8Z  \n",
      "144436  2015  M6K  \n",
      "144437  2015  M8Z  \n",
      "144438  2015  M4H  \n",
      "144439  2015  M9L  \n",
      "144440  2015  M3J  \n",
      "144441  2015  M4K  \n",
      "144442  2015  L4C  \n",
      "144443  2015  M5H  \n",
      "144444  2015  M8Z  \n",
      "144445  2015  L5R  \n",
      "144446  2015  M8Z  \n",
      "144447  2015  M8Z  \n",
      "144448  2015  M8Z  \n",
      "144449  2015  M8Z  \n",
      "144450  2015  M4L  \n",
      "144451  2015  M6H  \n",
      "144452  2015  M1C  \n",
      "144453  2015  M3H  \n",
      "144454  2015  L6B  \n",
      "144455  2015  M4K  \n",
      "144456  2015  M5R  \n",
      "144457  2015  L9P  \n",
      "144458  2015  M1G  \n",
      "144459  2015  L6S  \n",
      "144460  2015  V3T  \n",
      "144461  2015  M4L  \n",
      "\n",
      "[144462 rows x 11 columns]\n"
     ]
    }
   ],
   "source": [
    "#all_df = pd.read_table('balances.csv', sep=',',index_col='Ref_Date') \n",
    "all_lic = pd.read_table('ontario_coord.csv', sep=',') \n",
    "\n",
    "#fix the dates\n",
    "def addyear(x):\n",
    "    ystr = x[6]+x[7]\n",
    "    if (ystr>'18') :\n",
    "        ystr = '19'+ystr\n",
    "    else :\n",
    "        ystr = '20'+ystr\n",
    "    return ystr\n",
    "\n",
    "def getarea(po) :\n",
    "    area = po[:3]\n",
    "    return area\n",
    "# get rid of nulls in postal codes\n",
    "all_lic= all_lic[pd.notnull(all_lic['Licence Address Line 3'])]\n",
    "all_lic['year']=all_lic[\"Issued\"].map(addyear)\n",
    "all_lic['area']=all_lic['postal'].map(getarea)\n",
    "print all_lic"
   ]
  },
  {
   "cell_type": "code",
   "execution_count": 12,
   "metadata": {
    "collapsed": false
   },
   "outputs": [
    {
     "name": "stdout",
     "output_type": "stream",
     "text": [
      "(82, 1)\n",
      "                                          count\n",
      "category                                       \n",
      "TAXICAB BROKER                              126\n",
      "ENTERTAINMENT ESTABLISHMENT/NIGHTCLUB       121\n",
      "DRAIN LAYER                                 254\n",
      "COLLECTOR OF SECOND HAND GOODS              189\n",
      "TEMPORARY FIREWORKS VENDOR (OVER 25 KG)     143\n",
      "PRECIOUS METAL SHOP                         365\n",
      "SECOND HAND SHOP                            430\n",
      "ADULT ENTERTAINMENT CLUB                    123\n",
      "BODY RUB PARLOUR                            146\n",
      "PET SHOP                                    131\n",
      "PLACE OF AMUSEMENT                          325\n",
      "DRAIN CONTRACTOR                            304\n",
      "SIDEWALK VENDING                            189\n",
      "DRIVING SCHOOL OPERATOR (V)                 289\n",
      "PRIVATE PARKING ENFORCEMENT AGENCY          143\n",
      "LIMOUSINE SERVICE COMPANY                   198\n",
      "TEMPORARY SIGN - A-FRAME                    199\n",
      "DRIVEWAY PAVING CONTRACTOR                  163\n",
      "TEMPORARY FIREWORKS VENDOR (UNDER 25 KG)    124\n",
      "PLUMBING & HEATING CONTRACTOR               416\n",
      "DRIVE-SELF RENTAL OWNER                     448\n",
      "HAWKER/PEDLAR WITH MOTOR VEHICLE            251\n",
      "PUBLIC HALL                                 444\n",
      "TEMPORARY SIGN - NEW DEVELOPMENT            174\n",
      "THEATRE                                     114\n",
      "TORONTO TAXICAB OWNER                       438\n",
      "PEDICAB OWNER                               346\n",
      "AUCTIONEER                                  330\n",
      "PAWN SHOP                                   201\n",
      "BILLIARD HALL                               324\n"
     ]
    }
   ],
   "source": [
    "cat = all_lic['Category']\n",
    "\n",
    "d = defaultdict(int)\n",
    "\n",
    "for c in cat :   \n",
    "    d[c]+=1\n",
    "\n",
    "df = DataFrame(d.items(),columns=['category','count'])\n",
    "indf = df.set_index(['category'])\n",
    "print indf.shape\n",
    "\n",
    "cat500up = indf[indf['count']>=500]\n",
    "cat100_500 = indf[indf['count']>=100]\n",
    "cat100_500 = cat100_500[cat100_500['count']<500]\n",
    "cat100down = indf[indf['count']<100]\n",
    "print  cat100_500\n",
    "#print cat100_500.shape\n",
    "#print cat100down.shape\n",
    "#print \n",
    "#indf['count'].plot()\n",
    "#for attrib in d:\n",
    "#        print attrib\n",
    "#highcat = cat500up[cat500up['count']>5000]\n",
    "#highcat.plot"
   ]
  },
  {
   "cell_type": "code",
   "execution_count": 4,
   "metadata": {
    "collapsed": false
   },
   "outputs": [],
   "source": [
    "#Quickly fix the dates by adding 19 and 20\n",
    "\n",
    "\n",
    "def buildCategory(cat):\n",
    "    cat_target= all_lic [all_lic['Category']==cat]\n",
    "    dest='categories/'+cat + '.csv'\n",
    "    cat_target.to_csv(dest)\n",
    "    return cat_target"
   ]
  },
  {
   "cell_type": "code",
   "execution_count": 5,
   "metadata": {
    "collapsed": true
   },
   "outputs": [],
   "source": [
    "def limit_year(dataset,start=None,end=None,year=None) :\n",
    "\n",
    "    target = dataset\n",
    "    if (start is not None):\n",
    "        print \" filtering for start year \" + start\n",
    "        target= target [target['year']>= start]\n",
    "    if (end is not None) :\n",
    "        print \" filtering for end year \" + end\n",
    "        target = target[target['year']<= end]\n",
    "    if (year is not None) :\n",
    "        print \" filtering for  year \" + year\n",
    "        target = target[target['year']== year]\n",
    "    return target\n",
    "        "
   ]
  },
  {
   "cell_type": "code",
   "execution_count": 7,
   "metadata": {
    "collapsed": false
   },
   "outputs": [
    {
     "name": "stdout",
     "output_type": "stream",
     "text": [
      " filtering for  year 2012\n",
      "(1452, 11)\n"
     ]
    }
   ],
   "source": [
    "year_rest = limit_year(buildCategory(cat='EATING ESTABLISHMENT'),year='2012')\n",
    "print year_rest.shape\n",
    "\n",
    "# here we build the weights of each area\n",
    "def getweighted(dataset) :\n",
    "    target = dataset\n",
    "    areadict = defaultdict(int)\n",
    "    for c in dataset['area'] :   \n",
    "        areadict[c]+=1\n",
    "    f = lambda x : areadict[x]\n",
    "    target['w'] = target['area'].map(f)\n",
    "    return target\n",
    "year_w = getweighted(year_rest)\n",
    "\n",
    "#ignore errors\n",
    "year_w=year_w[year_w['lat']!=0]\n",
    "\n",
    "year_w_heatdata= year_w[['lat','lng','w']]\n",
    "heatmapdata= year_w_heatdata.to_records(index=False)\n",
    "#print heatmapdata\n",
    "\n",
    "import gmaps\n",
    "m = gmaps.heatmap(heatmapdata, max_intensity=10, point_radius=4)\n",
    "\n",
    "gmaps.display(m)"
   ]
  },
  {
   "cell_type": "code",
   "execution_count": null,
   "metadata": {
    "collapsed": false
   },
   "outputs": [],
   "source": []
  },
  {
   "cell_type": "code",
   "execution_count": 57,
   "metadata": {
    "collapsed": false
   },
   "outputs": [
    {
     "name": "stdout",
     "output_type": "stream",
     "text": [
      "(73, 12)\n"
     ]
    }
   ],
   "source": [
    "print year_w.shape"
   ]
  },
  {
   "cell_type": "code",
   "execution_count": 60,
   "metadata": {
    "collapsed": false
   },
   "outputs": [
    {
     "name": "stdout",
     "output_type": "stream",
     "text": [
      "Empty DataFrame\n",
      "Columns: [Unnamed: 0, Issued, Operating Name, Licence Address Line 3, Licence No., Category, postal, lat, lng, year, area, w]\n",
      "Index: []\n"
     ]
    }
   ],
   "source": [
    "error_series=year_w[year_w['lat']==0]\n",
    "print error_series"
   ]
  },
  {
   "cell_type": "code",
   "execution_count": 64,
   "metadata": {
    "collapsed": false
   },
   "outputs": [
    {
     "name": "stdout",
     "output_type": "stream",
     "text": [
      "{'_trait_dyn_inits': {'keys': '_keys_default', 'log': '_log_default'}, '_trait_values': {'_view_name': u'HeatmapView', '_msg_callbacks': <IPython.html.widgets.widget.CallbackDispatcher object at 0x10ac087d0>, '_bounds': [(43.612283000000005, -79.64709), (43.846693, -79.21630400000001)], 'color': u'', '_view_module': u'', 'max_intensity': 5.0, 'height': '400px', '_property_lock': (None, None), 'visible': True, 'border_radius': u'', 'border_width': u'', 'background_color': u'', 'point_radius': 4.0, 'font_style': '', '_states_to_send': set([]), '_display_callbacks': <IPython.html.widgets.widget.CallbackDispatcher object at 0x10ac08d10>, '_model_module': None, '_send_state_lock': 0, 'width': '700px', 'version': 0, '_is_weighted': True, 'config': {}, 'font_family': u'', '_dom_classes': (), 'parent': None, '_model_name': u'WidgetModel', 'keys': ['_view_name', '_bounds', 'color', '_view_module', 'max_intensity', 'height', 'visible', 'border_radius', 'border_width', 'background_color', 'point_radius', 'font_style', 'width', 'version', '_is_weighted', 'font_family', '_dom_classes', 'border_color', 'padding', 'font_weight', '_data', 'border_style', 'font_size', 'msg_throttle', '_css', 'margin'], 'border_color': u'', 'padding': u'', 'font_weight': '', 'comm': <IPython.kernel.comm.comm.Comm object at 0x1077a4690>, '_data': [(43.649651, -79.384064, 1), (43.667652000000004, -79.40052800000001, 3), (43.644267, -79.419931, 3), (43.763216, -79.292676, 5), (43.616954, -79.54211600000001, 1), (43.721985, -79.30349, 1), (43.659702, -79.383094, 3), (43.706905, -79.442764, 2), (43.670573, -79.38613199999999, 1), (43.654389, -79.380927, 1), (43.659273999999996, -79.43899, 1), (43.744673999999996, -79.296631, 5), (43.681098999999996, -79.429897, 2), (43.665385, -79.368581, 2), (43.7259, -79.340923, 3), (43.669259000000004, -79.391006, 3), (43.655003, -79.386658, 3), (43.63896, -79.382637, 1), (43.771347, -79.33568199999999, 2), (43.651128, -79.476473, 1), (43.676813, -79.447092, 2), (43.665721999999995, -79.40906700000001, 3), (43.736655, -79.345155, 3), (43.723079999999996, -79.275986, 3), (43.762805, -79.412094, 2), (43.724622, -79.334745, 3), (43.803345, -79.225403, 1), (43.661657, -79.367398, 2), (43.656577, -79.403188, 5), (43.757673, -79.312822, 5), (43.692739, -79.281943, 3), (43.746860999999996, -79.28433100000001, 5), (43.766572, -79.281524, 5), (43.771278, -79.32534, 2), (43.65657, -79.407207, 5), (43.751294, -79.544661, 1), (43.747060999999995, -79.28771, 5), (43.653912, -79.413597, 3), (43.658192, -79.365707, 2), (43.654007, -79.40010799999999, 5), (43.759353000000004, -79.410689, 2), (43.663515999999994, -79.417978, 1), (43.6563, -79.390938, 5), (43.75502, -79.31395699999999, 5), (43.612283000000005, -79.555758, 2), (43.713488, -79.428209, 2), (43.639023, -79.426227, 1), (43.751795, -79.262376, 5), (43.679460999999996, -79.437219, 2), (43.778596, -79.25565300000001, 5), (43.780464, -79.298037, 1), (43.643576, -79.53206, 1), (43.698837, -79.537865, 1), (43.719124, -79.238876, 1), (43.651610999999995, -79.380308, 1), (43.653484000000006, -79.396904, 5), (43.763812, -79.21630400000001, 1), (43.699096000000004, -79.39663399999999, 1), (43.618619, -79.561562, 2), (43.647851, -79.449387, 1), (43.672145, -79.322339, 1), (43.684978, -79.33087900000001, 1), (43.700764, -79.426425, 2), (43.659454, -79.347782, 2), (43.751026, -79.265541, 5), (43.657449, -79.356746, 2), (43.64394, -79.419573, 3), (43.733789, -79.38036600000001, 1), (43.732683, -79.43251500000001, 1), (43.663152000000004, -79.367762, 2), (43.709506, -79.294838, 3), (43.655713, -79.38459, 3), (43.846693, -79.64709, 1)], 'border_style': '', 'font_size': u'', 'msg_throttle': 3, '_css': (), 'margin': u''}, '_trait_notifiers': {}, '_model_id': u'6df0ae050d7a427ab59b1e5036eea195'}\n"
     ]
    }
   ],
   "source": []
  },
  {
   "cell_type": "code",
   "execution_count": 8,
   "metadata": {
    "collapsed": false
   },
   "outputs": [
    {
     "name": "stdout",
     "output_type": "stream",
     "text": [
      " filtering for start year 1970\n",
      "(11456, 11)\n"
     ]
    }
   ],
   "source": [
    "range_reno = limit_year(buildCategory(cat='BUILDING RENOVATOR'),start='1970')\n",
    "print range_reno.shape\n"
   ]
  },
  {
   "cell_type": "code",
   "execution_count": 9,
   "metadata": {
    "collapsed": false
   },
   "outputs": [
    {
     "data": {
      "text/plain": [
       "<matplotlib.axes._subplots.AxesSubplot at 0x10a483b50>"
      ]
     },
     "execution_count": 9,
     "metadata": {},
     "output_type": "execute_result"
    },
    {
     "data": {
      "image/png": "[encoded data removed]",
      "text/plain": [
       "<matplotlib.figure.Figure at 0x10a4d4c10>"
      ]
     },
     "metadata": {},
     "output_type": "display_data"
    }
   ],
   "source": [
    "def gettotals(dataset,cat) :\n",
    "    d = defaultdict(int)\n",
    "    catseries=dataset[cat]\n",
    "    for c in catseries :   \n",
    "        d[c]+=1\n",
    "    df = DataFrame(d.items(),columns=[cat,'count'])\n",
    "    indf = df.set_index([cat])\n",
    "    indf= indf.sort_index()\n",
    "    return indf\n",
    "\n",
    "reno = gettotals(range_reno,'year')\n",
    "\n",
    "reno.plot()\n",
    "\n",
    "    \n",
    "\n",
    "\n",
    "\n",
    "\n",
    "\n"
   ]
  },
  {
   "cell_type": "code",
   "execution_count": 84,
   "metadata": {
    "collapsed": false
   },
   "outputs": [
    {
     "data": {
      "text/plain": [
       "<matplotlib.axes._subplots.AxesSubplot at 0x108d561d0>"
      ]
     },
     "execution_count": 84,
     "metadata": {},
     "output_type": "execute_result"
    },
    {
     "data": {
      "image/png": "[encoded data removed]",
      "text/plain": [
       "<matplotlib.figure.Figure at 0x10891cb50>"
      ]
     },
     "metadata": {},
     "output_type": "display_data"
    }
   ],
   "source": [
    "reno.plot(kind='hist')"
   ]
  },
  {
   "cell_type": "code",
   "execution_count": null,
   "metadata": {
    "collapsed": true
   },
   "outputs": [],
   "source": []
  }
 ],
 "metadata": {
  "celltoolbar": "Raw Cell Format",
  "kernelspec": {
   "display_name": "Python 2",
   "language": "python",
   "name": "python2"
  },
  "language_info": {
   "codemirror_mode": {
    "name": "ipython",
    "version": 2
   },
   "file_extension": ".py",
   "mimetype": "text/x-python",
   "name": "python",
   "nbconvert_exporter": "python",
   "pygments_lexer": "ipython2",
   "version": "2.7.10"
  }
 },
 "nbformat": 4,
 "nbformat_minor": 0
}
