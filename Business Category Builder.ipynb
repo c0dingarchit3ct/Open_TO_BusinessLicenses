{
 "cells": [
  {
   "cell_type": "code",
   "execution_count": 1,
   "metadata": {
    "collapsed": false
   },
   "outputs": [
    {
     "name": "stdout",
     "output_type": "stream",
     "text": [
      "Populating the interactive namespace from numpy and matplotlib\n",
      "test\n"
     ]
    }
   ],
   "source": [
    "import pandas as pd\n",
    "import numpy as np\n",
    "from numpy import nan as NA\n",
    "from pandas import DataFrame, Series\n",
    "import re # regular expressions\n",
    "#adding graphics\n",
    "import matplotlib.pyplot as plt\n",
    "%pylab inline\n",
    "from pylab import rcParams\n",
    "from collections import defaultdict\n",
    "from collections import OrderedDict as od\n",
    "rcParams['figure.figsize'] = 18, 6\n",
    "print 'test'"
   ]
  },
  {
   "cell_type": "code",
   "execution_count": 2,
   "metadata": {
    "collapsed": false
   },
   "outputs": [
    {
     "name": "stdout",
     "output_type": "stream",
     "text": [
      "0         M9L1N9\n",
      "1         M1W2Z4\n",
      "2         M1V2M1\n",
      "3         M9W2Z2\n",
      "4         M9W5E3\n",
      "5         M4B1P2\n",
      "6         M1L1M5\n",
      "7         M1N1R3\n",
      "8         M1C1L5\n",
      "9         M5V3B1\n",
      "10        M5V3B1\n",
      "11        M1V4B5\n",
      "12        M1K1E7\n",
      "13        M4B1P2\n",
      "14        M5A2R3\n",
      "15        M5A2R3\n",
      "16        M8Z1A1\n",
      "17        M2M3Y2\n",
      "18        M2M3Y2\n",
      "19        M1H1A5\n",
      "20        M1H1A5\n",
      "21        M8Y1A9\n",
      "22        M4B2V2\n",
      "23        M9W5E3\n",
      "24        M4G3V3\n",
      "25        M8Y1A9\n",
      "26        M1M1R4\n",
      "27        M4G3V3\n",
      "28        M4G3V3\n",
      "29        M3K1E2\n",
      "           ...  \n",
      "144461       M4J\n",
      "144462       M6P\n",
      "144463       M8Z\n",
      "144464       M8Z\n",
      "144465       M6K\n",
      "144466       M8Z\n",
      "144467       M4H\n",
      "144468       M9L\n",
      "144469       M3J\n",
      "144470       M4K\n",
      "144471       L4C\n",
      "144472       M5H\n",
      "144473       M8Z\n",
      "144474       L5R\n",
      "144475       M8Z\n",
      "144476       M8Z\n",
      "144477       M8Z\n",
      "144478       M8Z\n",
      "144479       M4L\n",
      "144480       M6H\n",
      "144481       M1C\n",
      "144482       M3H\n",
      "144483       L6B\n",
      "144484       M4K\n",
      "144485       M5R\n",
      "144486       L9P\n",
      "144487       M1G\n",
      "144488       L6S\n",
      "144489       V3T\n",
      "144490       M4L\n",
      "Name: postal, dtype: object\n"
     ]
    },
    {
     "name": "stderr",
     "output_type": "stream",
     "text": [
      "/Users/ahmed/anaconda/lib/python2.7/site-packages/pandas/io/parsers.py:1170: DtypeWarning: Columns (6,7,8,13) have mixed types. Specify dtype option on import or set low_memory=False.\n",
      "  data = self._reader.read(nrows)\n"
     ]
    }
   ],
   "source": [
    "#all_df = pd.read_table('balances.csv', sep=',',index_col='Ref_Date') \n",
    "all_lic = pd.read_table('business.licences.csv', sep=',') \n",
    "\n",
    "#fix the dates\n",
    "def addyear(x):\n",
    "    ystr = x[6]+x[7]\n",
    "    if (ystr>'18') :\n",
    "        ystr = '19'+ystr\n",
    "    else :\n",
    "        ystr = '20'+ystr\n",
    "    return ystr\n",
    "\n",
    "def getpostal(postal) :\n",
    "    return postal[:3]+ postal[4:]\n",
    "def getarea(po) :\n",
    "    area = po[:3]\n",
    "    return area\n",
    "# get rid of nulls in postal codes\n",
    "all_lic= all_lic[pd.notnull(all_lic['Licence Address Line 3'])]\n",
    "all_lic['year']=all_lic[\"Issued\"].map(addyear)\n",
    "all_lic['postal']=all_lic['Licence Address Line 3'].map(getpostal)\n",
    "all_lic['area']=all_lic['postal'].map(getarea)\n",
    "#all_lic['lat']=all_lic[\"postal\"].map(lat)\n",
    "#all_lic['lng']=all_lic[\"postal\"].map(lng)\n",
    "print all_lic['postal']"
   ]
  },
  {
   "cell_type": "code",
   "execution_count": 3,
   "metadata": {
    "collapsed": false
   },
   "outputs": [
    {
     "name": "stdout",
     "output_type": "stream",
     "text": [
      "(82, 1)\n"
     ]
    }
   ],
   "source": [
    "cat = all_lic['Category']\n",
    "d = defaultdict(int)\n",
    "\n",
    "for c in cat :   \n",
    "    d[c]+=1\n",
    "\n",
    "df = DataFrame(d.items(),columns=['category','count'])\n",
    "indf = df.set_index(['category'])\n",
    "print indf.shape\n",
    "\n",
    "cat500up = indf[indf['count']>=500]\n",
    "cat100_500 = indf[indf['count']>=100]\n",
    "cat100_500 = cat100_500[cat100_500['count']<500]\n",
    "cat100down = indf[indf['count']<100]\n",
    "#print cat500up.shape\n",
    "#print cat100_500.shape\n",
    "#print cat100down.shape\n",
    "#print \n",
    "#indf['count'].plot()\n",
    "#for attrib in d:\n",
    "#        print attrib\n",
    "#highcat = cat500up[cat500up['count']>5000]\n",
    "#highcat.plot"
   ]
  },
  {
   "cell_type": "code",
   "execution_count": 4,
   "metadata": {
    "collapsed": false
   },
   "outputs": [],
   "source": [
    "#Quickly fix the dates by adding 19 and 20\n",
    "\n",
    "\n",
    "def buildCategory(cat):\n",
    "    cat_target= all_lic [all_lic['Category']==cat]\n",
    "   \n",
    "    #select the fields we want\n",
    "    target=cat_target[['Operating Name','Issued','year','postal','area']]\n",
    "    dest='categories/'+cat + '.csv'\n",
    "    target.to_csv(dest)\n",
    "    return target"
   ]
  },
  {
   "cell_type": "code",
   "execution_count": 5,
   "metadata": {
    "collapsed": true
   },
   "outputs": [],
   "source": [
    "def limit_year(dataset,start=None,end=None,year=None) :\n",
    "\n",
    "    target = dataset\n",
    "    if (start is not None):\n",
    "        print \" filtering for start year \" + start\n",
    "        target= target [target['year']>= start]\n",
    "    if (end is not None) :\n",
    "        print \" filtering for end year \" + end\n",
    "        target = target[target['year']<= end]\n",
    "    if (year is not None) :\n",
    "        print \" filtering for  year \" + year\n",
    "        target = target[target['year']== year]\n",
    "    return target\n",
    "        "
   ]
  },
  {
   "cell_type": "code",
   "execution_count": 45,
   "metadata": {
    "collapsed": false
   },
   "outputs": [
    {
     "name": "stdout",
     "output_type": "stream",
     "text": [
      " filtering for  year 2004\n",
      "                                       Operating Name    Issued  year  postal  \\\n",
      "64596                          CHINA FEAST RESTAURANT  01-01-04  2004  M4G2Z8   \n",
      "64669                       CHIN CHYN CHINESE CUISINE  14-01-04  2004  M1P4Y4   \n",
      "64754                  AL-MADINA HALAL PIZZA & BAKERY  23-01-04  2004  M1P2S2   \n",
      "64790                                   TEA POT CHATT  01-01-04  2004  M4X1P8   \n",
      "64791                EL CAMINO BAR RESTAURANT MEXICAN  19-02-04  2004  M6P1Y7   \n",
      "64805                KHAWAJA GHAREEB NAWAZ RESTAURENT  07-01-04  2004  M4L3B4   \n",
      "64811                    FLOWER DRUM RESTAURANT & BAR  16-02-04  2004  M8V1C4   \n",
      "64822                  SANKKAMAM TAKEOUT AND CATERING  12-01-04  2004  M1G3S3   \n",
      "64827                             NIAGARA STREET CAFE  02-03-04  2004  M5V1C9   \n",
      "64851                  STREAMS OF BLESSING FISH SHACK  01-01-04  2004  M5T2M1   \n",
      "64857  EL CAMINO REAL BAR AND RESTAURANT MEXICAN FOOD  20-02-04  2004  M6P1Y7   \n",
      "64871                    CHEF ARTHUR EXPRESS CATERING  01-01-04  2004  M6S3Z2   \n",
      "64872                      UNCLE HARRY'S FISH & CHIPS  01-01-04  2004  M1K1N8   \n",
      "64899                              CASTELO SPORTS BAR  01-01-04  2004  M6E1B8   \n",
      "64901                                  DRAGON DELIGHT  29-03-04  2004  M6J1Y8   \n",
      "64930                                 A & S ROTI SHOP  13-02-04  2004  M1E3E6   \n",
      "64938                                 LUCKY CHINA WOK  01-01-04  2004  M4M1G3   \n",
      "64965                               TAJ COUNTRY STYLE  01-01-04  2004  M1S3V8   \n",
      "64975                                         UMBRELA  05-02-04  2004  M6H1A3   \n",
      "64983                         PARADISE BAY FISH SHACK  12-03-04  2004  M5T2M1   \n",
      "64994                        SUPER CHINESE RESTAURANT  01-01-04  2004  M6N1B9   \n",
      "65010                       SUZANNA'S CAFE RESTAURANT  24-04-04  2004  M4C1J6   \n",
      "65038                  GOLDEN GARDEN BAR & RESTAURANT  01-01-04  2004  M6E1A1   \n",
      "65082                                     SHEMEN ZAIT  27-03-04  2004  M6A2C4   \n",
      "65110                                       CARIB WOK  01-01-04  2004  M1B4Y7   \n",
      "65132                            HARVEY'S STORE# 2459  01-01-04  2004  M5B1L2   \n",
      "65149                                      RED PLANET  23-03-04  2004  M4Y1C8   \n",
      "65335            WONG'S CHINESE FOOD & TEA RESTAURANT  15-01-04  2004  M6G3B8   \n",
      "65336                       CORONATION FISH AND CHIPS  07-01-04  2004  M1E3C8   \n",
      "65354                                 LUCKY CHINA WOK  13-04-04  2004  M4M1G3   \n",
      "...                                               ...       ...   ...     ...   \n",
      "84450                                  ARAMARK CANADA  09-12-04  2004  M4N1T7   \n",
      "84451                   STARBUCKS COFFEE CANADA #4585  07-12-04  2004  M3H2S1   \n",
      "84452                                          SUBWAY  07-12-04  2004  M2N5P8   \n",
      "84453                                    MIMI'S CAFFE  02-11-04  2004  M4P1E2   \n",
      "84454                                  RIVERDALE PERK  02-11-04  2004  M4K3C4   \n",
      "84455                                      JUGO JUICE  17-12-04  2004  M5B2H1   \n",
      "84456                   EL RINCON MEXICANO RESTAURANT  22-11-04  2004  M6C1A7   \n",
      "84457                       AROMA FINE INDIAN CUISINE  22-11-04  2004  M5V1J5   \n",
      "84458                      NEW FLOWER DRUM RESTAURANT  02-12-04  2004  M8V1C4   \n",
      "84461                                           PANDA  30-11-04  2004  M1B4Y7   \n",
      "84462                                        ELGREEKO  09-12-04  2004  M3N3A1   \n",
      "84467                          TIMOTHY'S WORLD COFFEE  03-12-04  2004  M5H3S5   \n",
      "84468                                  ARAMARK CANADA  06-12-04  2004  M3N1W7   \n",
      "84469                                  ARAMARK CANADA  06-12-04  2004  M1G3M3   \n",
      "84470                                  ARAMARK CANADA  06-12-04  2004  M6L1L7   \n",
      "84471                                  ARAMARK CANADA  06-12-04  2004  M3M1S5   \n",
      "84472                                  ARAMARK CANADA  06-12-04  2004  M1M3N8   \n",
      "84474                                  ARAMARK CANADA  06-12-04  2004  M1C3E7   \n",
      "84475                                  ARAMARK CANADA  06-12-04  2004  M5M4K1   \n",
      "84476                                  ARAMARK CANADA  06-12-04  2004  M3M1H5   \n",
      "84477                                  ARAMARK CANADA  06-12-04  2004  M1K5A7   \n",
      "84478                                  ARAMARK CANADA  06-12-04  2004  M1L1Z8   \n",
      "84479                                  ARAMARK CANADA  06-12-04  2004  M1H2A2   \n",
      "84480                                  ARAMARK CANADA  06-12-04  2004  M1M1V3   \n",
      "84481                                  ARAMARK CANADA  06-12-04  2004  M1W2K1   \n",
      "84482                                  ARAMARK CANADA  06-12-04  2004  M1E1P5   \n",
      "84483                                  ARAMARK CANADA  06-12-04  2004  M9M2V9   \n",
      "84484                                  ARAMARK CANADA  06-12-04  2004  M3H5R2   \n",
      "84491                             ESTONIAN HOUSE CAFE  15-12-04  2004  M4K2R6   \n",
      "84495                              THE CROISSANT TREE  30-12-04  2004  M4Y2G1   \n",
      "\n",
      "      area  \n",
      "64596  M4G  \n",
      "64669  M1P  \n",
      "64754  M1P  \n",
      "64790  M4X  \n",
      "64791  M6P  \n",
      "64805  M4L  \n",
      "64811  M8V  \n",
      "64822  M1G  \n",
      "64827  M5V  \n",
      "64851  M5T  \n",
      "64857  M6P  \n",
      "64871  M6S  \n",
      "64872  M1K  \n",
      "64899  M6E  \n",
      "64901  M6J  \n",
      "64930  M1E  \n",
      "64938  M4M  \n",
      "64965  M1S  \n",
      "64975  M6H  \n",
      "64983  M5T  \n",
      "64994  M6N  \n",
      "65010  M4C  \n",
      "65038  M6E  \n",
      "65082  M6A  \n",
      "65110  M1B  \n",
      "65132  M5B  \n",
      "65149  M4Y  \n",
      "65335  M6G  \n",
      "65336  M1E  \n",
      "65354  M4M  \n",
      "...    ...  \n",
      "84450  M4N  \n",
      "84451  M3H  \n",
      "84452  M2N  \n",
      "84453  M4P  \n",
      "84454  M4K  \n",
      "84455  M5B  \n",
      "84456  M6C  \n",
      "84457  M5V  \n",
      "84458  M8V  \n",
      "84461  M1B  \n",
      "84462  M3N  \n",
      "84467  M5H  \n",
      "84468  M3N  \n",
      "84469  M1G  \n",
      "84470  M6L  \n",
      "84471  M3M  \n",
      "84472  M1M  \n",
      "84474  M1C  \n",
      "84475  M5M  \n",
      "84476  M3M  \n",
      "84477  M1K  \n",
      "84478  M1L  \n",
      "84479  M1H  \n",
      "84480  M1M  \n",
      "84481  M1W  \n",
      "84482  M1E  \n",
      "84483  M9M  \n",
      "84484  M3H  \n",
      "84491  M4K  \n",
      "84495  M4Y  \n",
      "\n",
      "[1950 rows x 5 columns]\n"
     ]
    }
   ],
   "source": [
    "rest2000 = limit_year(buildCategory(cat='EATING ESTABLISHMENT'),year='2004')\n",
    "print rest2000"
   ]
  },
  {
   "cell_type": "code",
   "execution_count": 46,
   "metadata": {
    "collapsed": false
   },
   "outputs": [
    {
     "name": "stdout",
     "output_type": "stream",
     "text": [
      "(313072, 7)\n",
      "(43.664636000000002, -79.414206000000007)\n"
     ]
    }
   ],
   "source": [
    "# in this part we read the ontario csv to lookup coordinates\n",
    "onp = pd.read_table('ontario.csv', sep=',') \n",
    "print onp.shape\n",
    "\n",
    "def getpostalcoordinates (code):\n",
    "    postal = onp[onp['postal']==code]\n",
    "    return postal\n",
    "\n",
    "def coord(x) :\n",
    "    c = getpostalcoordinates(x)\n",
    "    if c is None :\n",
    "        return 0,0\n",
    "    if c.empty:\n",
    "        return 0,0\n",
    "    return c.iloc[0]['lat'],c.iloc[0]['lng']\n",
    "\n",
    "temp= coord('M6G1K7')\n",
    "print temp\n",
    "\n",
    "# here we build a list of all zip codes in a list\n",
    "def getweighted(dataset) :\n",
    "    target = dataset\n",
    "    areadict = defaultdict(int)\n",
    "    for c in dataset['area'] :   \n",
    "        areadict[c]+=1\n",
    "    f = lambda x : areadict[x]\n",
    "    target['w'] = target['area'].map(f)\n",
    "    target['lat'],target['lng']= zip(*target['postal'].map(coord))\n",
    "    return target\n",
    "testw = getweighted(rest2000)"
   ]
  },
  {
   "cell_type": "code",
   "execution_count": 41,
   "metadata": {
    "collapsed": false
   },
   "outputs": [
    {
     "name": "stdout",
     "output_type": "stream",
     "text": [
      "                                Operating Name    Issued  year  postal area  \\\n",
      "80795                                 GEORGE'S  06-02-14  2014  M6E1A1  M6E   \n",
      "81015  ROCHA AND DIAS BAKERY AND CHURRASQUEIRA  06-02-14  2014  M6E2V8  M6E   \n",
      "81043                           LICKEN CHICKEN  10-04-14  2014  M4H1P9  M4H   \n",
      "81048                            DIM SUM HOUSE  13-02-14  2014  M1V5N1  M1V   \n",
      "81169            HOT WINGS GRILL AND RIB HOUSE  03-01-14  2014  M5V2B6  M5V   \n",
      "81208                              AMPM COFFEE  29-04-14  2014  M5J2T5  M5J   \n",
      "81268                          PORTA NOVA CAFE  06-02-14  2014  M6H2C1  M6H   \n",
      "81309                     GOOD TIMES BAD TIMES  08-04-14  2014  M6P3L4  M6P   \n",
      "81310           UNITED COFFEE AND ESPRESSO INC  22-04-14  2014  M6G3T2  M6G   \n",
      "81405                        NEW AKASH TAKEOUT  31-01-14  2014  M1W2L1  M1W   \n",
      "81428                          GRINDERTOGO.COM  15-01-14  2014  M4M1Z6  M4M   \n",
      "81435                     JETSUN'S JUICYBURGER  25-02-14  2014  M2N5P5  M2N   \n",
      "81539                                  70 DOWN  07-03-14  2014  M5R1B9  M5R   \n",
      "81566                                SICAN LTD  14-01-14  2014  M3B3M1  M3B   \n",
      "81586                  THE PURSUIT OF FROSTING  14-07-14  2014  M6C2B6  M6C   \n",
      "81587             TORONTO RED ONION RESTAURANT  25-03-14  2014  M5T2G3  M5T   \n",
      "81594                                  LA ISLA  30-06-14  2014  M6A2C7  M6A   \n",
      "81664                         NEW REGAL GARDEN  22-01-14  2014  M6G1L1  M6G   \n",
      "81679                       THAI TO GO COXWELL  08-04-14  2014  M4C3G4  M4C   \n",
      "81684                          B KOREAN B.B.Q.  05-03-14  2014  M5T1G9  M5T   \n",
      "81711                               RED PARROT  19-02-14  2014  M6H3Y9  M6H   \n",
      "81729                   THAI DELITE RESTAURANT  03-03-14  2014  M8Y1J3  M8Y   \n",
      "81739                   RICKY RICARDO'S & RYZE  11-03-14  2014  M5T1T1  M5T   \n",
      "81740              BIKKURI JAPANESE RESTAURANT  12-03-14  2014  M5T1S8  M5T   \n",
      "81757                            FANTAXIA CAFE  03-01-14  2014  M2H3N3  M2H   \n",
      "81763                       D LICENSE TO GRILL  17-04-14  2014  M4L1Z8  M4L   \n",
      "81777                               TOP SAIGON  13-08-14  2014  M2H1T1  M2H   \n",
      "81783               SPICE HOUSE INDIAN CUISINE  02-01-14  2014  M4X1P9  M4X   \n",
      "81825                    709 GREEK COFFEE SHOP  06-06-14  2014  M4J1L2  M4J   \n",
      "81833                             YORK BURGERS  02-07-14  2014  M6M2R3  M6M   \n",
      "...                                        ...       ...   ...     ...  ...   \n",
      "90122                            SUBWAY #41975  18-12-14  2014  M5A1S8  M5A   \n",
      "90124                               MANCHU WOK  18-12-14  2014  M3L1B2  M3L   \n",
      "90125                              PIZZA PIZZA  18-12-14  2014  M6G1B5  M6G   \n",
      "90126                         NEW SUSHI ISLAND  18-12-14  2014  M6G1B2  M6G   \n",
      "90127                 QUEEN'S ROLLS RESTAURANT  18-12-14  2014  M8X1E7  M8X   \n",
      "90128                        TIM HORTONS #5559  18-12-14  2014  M4Y3A6  M4Y   \n",
      "90129                        TIM HORTONS #5555  18-12-14  2014  M4Y1Z9  M4Y   \n",
      "90131                           BURRITO PLANET  18-12-14  2014  M5T1P7  M5T   \n",
      "90132                           BIGMAN'S PIZZA  19-12-14  2014  M4G3B6  M4G   \n",
      "90133                               LOVING HUT  19-12-14  2014  M5V2L4  M5V   \n",
      "90134                 BOCCONCINI PIZZA & WINGS  19-12-14  2014  M5B1G7  M5B   \n",
      "90135                        MICHEL'S BAGUETTE  19-12-14  2014  M5L1G5  M5L   \n",
      "90136                               LA CARNITA  19-12-14  2014  M4M1H4  M4M   \n",
      "90137                   LOUIS CIFER BREW WORKS  19-12-14  2014  M4K1P1  M4K   \n",
      "90138                                PIZZA HUT  19-12-14  2014  M5V2T3  M5V   \n",
      "90139                                PIZZA HUT  19-12-14  2014  M5E1R8  M5E   \n",
      "90140                     DANFORTH PIZZA HOUSE  22-12-14  2014  M4J1L9  M4J   \n",
      "90141                 MIRAGE NOODLE RESTAURANT  22-12-14  2014  M1S4T5  M1S   \n",
      "90142                                CAFFE IBO  22-12-14  2014  M4J1N3  M4J   \n",
      "90144                            LUCKY BASTARD  23-12-14  2014  M6G1B4  M6G   \n",
      "90145                  BAM! BREAKFAST & BISTRO  23-12-14  2014  M4L1H8  M4L   \n",
      "90146                                TACORRITO  23-12-14  2014  M5A1P9  M5A   \n",
      "90147                                    CIRTA  23-12-14  2014  M5G1M5  M5G   \n",
      "90148                         ALTON RESTAURANT  24-12-14  2014  M1V3Z4  M1V   \n",
      "90149                        HAWAII RESTAURANT  24-12-14  2014  M6H2X6  M6H   \n",
      "90150          HUNTER'S PIZZA & SOUVLAKI HOUSE  24-12-14  2014  M1T2M5  M1T   \n",
      "90151                                  LA PREP  24-12-14  2014  M5C2W5  M5C   \n",
      "90152                                 BERKLEYS  29-12-14  2014  M5A4J6  M5A   \n",
      "90153                        GREECE RESTAURANT  29-12-14  2014  M4S2M9  M4S   \n",
      "90154         LAWRENCE PARK RESTAURANT AND BAR  31-12-14  2014  M9N3V3  M9N   \n",
      "\n",
      "        w        lat        lng  \n",
      "80795  27  43.679671 -79.436361  \n",
      "81015  27  43.685834 -79.437997  \n",
      "81043   5  43.704220 -79.350663  \n",
      "81048  43  43.818529 -79.297535  \n",
      "81169  63  43.647689 -79.400639  \n",
      "81208  18  43.640242 -79.378386  \n",
      "81268  37  43.669998 -79.435955  \n",
      "81309  26  43.657108 -79.447723  \n",
      "81310  55  43.655331 -79.422791  \n",
      "81405  10  43.798993 -79.313213  \n",
      "81428  32  43.668858 -79.337077  \n",
      "81435  44  43.769275 -79.415795  \n",
      "81539  22  43.670865 -79.388909  \n",
      "81566  11  43.750740 -79.347511  \n",
      "81586  19  43.703181 -79.415698  \n",
      "81587  58  43.655354 -79.398629  \n",
      "81594  14  43.729609 -79.431988  \n",
      "81664  55  43.663418 -79.418598  \n",
      "81679  23  43.696472 -79.328726  \n",
      "81684  58  43.653484 -79.396904  \n",
      "81711  37  43.659435 -79.442842  \n",
      "81729   9  43.630356 -79.485588  \n",
      "81739  58  43.656501 -79.406920  \n",
      "81740  58  43.657041 -79.406085  \n",
      "81757  13  43.791408 -79.353630  \n",
      "81763  22  43.672575 -79.321634  \n",
      "81777  13  43.791105 -79.367081  \n",
      "81783   3  43.667879 -79.369156  \n",
      "81825  29  43.679209 -79.342225  \n",
      "81833  13  43.705357 -79.471207  \n",
      "...    ..        ...        ...  \n",
      "90122  37  43.655567 -79.365122  \n",
      "90124   4  43.720832 -79.512524  \n",
      "90125  55  43.654957 -79.414588  \n",
      "90126  55  43.655459 -79.411965  \n",
      "90127   4  43.645118 -79.521365  \n",
      "90128  33  43.662627 -79.383374  \n",
      "90129  33  43.668085 -79.385626  \n",
      "90131  58  43.658843 -79.394042  \n",
      "90132  10  43.704645 -79.374931  \n",
      "90133  63  43.655669 -79.399418  \n",
      "90134  26  43.659516 -79.380566  \n",
      "90135   1  43.696023 -79.430598  \n",
      "90136  32  43.659454 -79.347782  \n",
      "90137  29  43.677508 -79.350852  \n",
      "90138  63  43.643917 -79.404213  \n",
      "90139  16  43.651611 -79.380308  \n",
      "90140  29  43.679246 -79.344268  \n",
      "90141  20  43.799023 -79.317171  \n",
      "90142  29  43.682468 -79.327019  \n",
      "90144  55  43.655480 -79.413060  \n",
      "90145  22  43.668320 -79.308981  \n",
      "90146  37  43.651612 -79.378645  \n",
      "90147  30  43.656082 -79.383901  \n",
      "90148  43  43.825691 -79.278124  \n",
      "90149  37  43.666058 -79.431047  \n",
      "90150  12  43.788794 -79.302026  \n",
      "90151  13  43.650613 -79.369162  \n",
      "90152  37  43.647422 -79.373392  \n",
      "90153  14  43.703308 -79.388197  \n",
      "90154  16  43.700058 -79.510475  \n",
      "\n",
      "[1519 rows x 8 columns]\n"
     ]
    }
   ],
   "source": [
    "print testw"
   ]
  },
  {
   "cell_type": "code",
   "execution_count": 42,
   "metadata": {
    "collapsed": false
   },
   "outputs": [
    {
     "name": "stdout",
     "output_type": "stream",
     "text": [
      "                   Operating Name    Issued  year  postal area   w  lat  lng\n",
      "89466       FRESH START COFFEE CO  24-06-14  2014  M5E2K4  M5E  16    0    0\n",
      "90049      CHIPOTLE MEXICAN GRILL  28-11-14  2014  M6N0A3  M6N  24    0    0\n",
      "90086  LEFT BANK GRILL & WINE BAR  09-12-14  2014  M4M4A5  M4M  32    0    0\n"
     ]
    }
   ],
   "source": [
    "testw1=testw[testw['lat']==0]\n",
    "print testw1"
   ]
  },
  {
   "cell_type": "code",
   "execution_count": 43,
   "metadata": {
    "collapsed": false
   },
   "outputs": [],
   "source": [
    "testw=testw[testw['lat']!=0]\n",
    "testw= testw[['lat','lng','w']]\n",
    "heatmapdata= testw.to_records(index=False)"
   ]
  },
  {
   "cell_type": "code",
   "execution_count": 44,
   "metadata": {
    "collapsed": false
   },
   "outputs": [
    {
     "name": "stdout",
     "output_type": "stream",
     "text": [
      "[(43.679671, -79.436361, 27) (43.685834, -79.437997, 27)\n",
      " (43.70422, -79.350663, 5) (43.818529, -79.297535, 43)\n",
      " (43.647689, -79.400639, 63)]\n"
     ]
    }
   ],
   "source": [
    "import gmaps\n",
    "print heatmapdata[:5]\n",
    "m = gmaps.heatmap(heatmapdata, max_intensity=10, point_radius=5)\n",
    "gmaps.display(m)"
   ]
  },
  {
   "cell_type": "code",
   "execution_count": null,
   "metadata": {
    "collapsed": true
   },
   "outputs": [],
   "source": []
  }
 ],
 "metadata": {
  "celltoolbar": "Raw Cell Format",
  "kernelspec": {
   "display_name": "Python 2",
   "language": "python",
   "name": "python2"
  },
  "language_info": {
   "codemirror_mode": {
    "name": "ipython",
    "version": 2
   },
   "file_extension": ".py",
   "mimetype": "text/x-python",
   "name": "python",
   "nbconvert_exporter": "python",
   "pygments_lexer": "ipython2",
   "version": "2.7.10"
  }
 },
 "nbformat": 4,
 "nbformat_minor": 0
}
