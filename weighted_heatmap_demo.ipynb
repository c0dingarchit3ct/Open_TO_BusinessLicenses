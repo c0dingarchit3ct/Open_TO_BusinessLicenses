{
 "cells": [
  {
   "cell_type": "markdown",
   "metadata": {},
   "source": [
    "# Plotting weighted heatmaps\n",
    "\n",
    "Let's look at plotting weighted heatmaps. We'll use earthquake data as our dataset. The weight of the datapoint will correspond to the magnitude of the earthquake. A higher weight will translate into a hotter colour on the heatmap."
   ]
  },
  {
   "cell_type": "code",
   "execution_count": 1,
   "metadata": {
    "collapsed": false
   },
   "outputs": [
    {
     "name": "stderr",
     "output_type": "stream",
     "text": [
      ":0: FutureWarning: IPython widgets are experimental and may change in the future.\n"
     ]
    },
    {
     "data": {
      "application/javascript": [
       "\n",
       "            IPython.load_extensions('gmaps_js/heatmap_view')\n",
       "            "
      ],
      "text/plain": [
       "<IPython.core.display.Javascript object>"
      ]
     },
     "metadata": {},
     "output_type": "display_data"
    }
   ],
   "source": [
    "import gmaps"
   ]
  },
  {
   "cell_type": "markdown",
   "metadata": {},
   "source": [
    "Let's load the earthquake dataset. This is a list of all the (recorded) earthquakes that occurred around the world between the 12th of November and the 12th of December 2014. There are a little over 8000 recorded earthquakes in the dataset. The data is from the [United States Geological Survey](http://earthquake.usgs.gov/earthquakes/feed/v1.0/)."
   ]
  },
  {
   "cell_type": "code",
   "execution_count": 2,
   "metadata": {
    "collapsed": false
   },
   "outputs": [
    {
     "data": {
      "text/plain": [
       "array([(65.1933, -149.0725, 1.7), (38.791832, -122.7808304, 2.1),\n",
       "       (38.8180008, -122.79216770000001, 0.48),\n",
       "       (33.6016667, -116.72766670000001, 0.78),\n",
       "       (37.378334, -118.52083590000002, 3.64)], \n",
       "      dtype=[('Latitude', '<f8'), ('Longitude', '<f8'), ('Magnitude', '<f8')])"
      ]
     },
     "execution_count": 2,
     "metadata": {},
     "output_type": "execute_result"
    }
   ],
   "source": [
    "earthquake_data = gmaps.datasets.load_dataset('earthquakes')\n",
    "earthquake_data[:5]"
   ]
  },
  {
   "cell_type": "markdown",
   "metadata": {},
   "source": [
    "We now have the data in a Numpy array. We can just pass the data as is to `heatmap`."
   ]
  },
  {
   "cell_type": "code",
   "execution_count": 3,
   "metadata": {
    "collapsed": false
   },
   "outputs": [],
   "source": [
    "m = gmaps.heatmap(earthquake_data, max_intensity=10, point_radius=5)\n",
    "# Set max_intensity to avoid a few strong earthquakes drowning out all the smaller ones.\n",
    "\n",
    "# Let's zoom in to North  America and the Pacific belt\n",
    "m._bounds = [[21.147981560433177, -171.1778375], [67.28135425049395, -48.13096250000001]]\n",
    "gmaps.display(m)"
   ]
  },
  {
   "cell_type": "code",
   "execution_count": null,
   "metadata": {
    "collapsed": false
   },
   "outputs": [],
   "source": []
  }
 ],
 "metadata": {
  "kernelspec": {
   "display_name": "Python 2",
   "language": "python",
   "name": "python2"
  },
  "language_info": {
   "codemirror_mode": {
    "name": "ipython",
    "version": 2
   },
   "file_extension": ".py",
   "mimetype": "text/x-python",
   "name": "python",
   "nbconvert_exporter": "python",
   "pygments_lexer": "ipython2",
   "version": "2.7.10"
  }
 },
 "nbformat": 4,
 "nbformat_minor": 0
}
